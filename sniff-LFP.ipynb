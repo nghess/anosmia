{
 "cells": [
  {
   "cell_type": "markdown",
   "metadata": {},
   "source": [
    "# Inhalation aligned LFP rasters"
   ]
  },
  {
   "cell_type": "code",
   "execution_count": 1,
   "metadata": {},
   "outputs": [],
   "source": [
    "import numpy as np\n",
    "from utils import *\n",
    "import os"
   ]
  },
  {
   "cell_type": "code",
   "execution_count": null,
   "metadata": {},
   "outputs": [
    {
     "name": "stdout",
     "output_type": "stream",
     "text": [
      "\n",
      "Processing 6001/0\n",
      "\n",
      "Processing 6001/7\n",
      "Sniff params file not found for 6001/7. Skipping...\n",
      "\n",
      "Processing 6002/11\n",
      "\n",
      "Processing 6002/5\n",
      "\n",
      "Processing 6002/12\n",
      "\n",
      "Processing 6002/7\n",
      "\n",
      "Processing 6002/8\n",
      "\n",
      "Processing 6002/10\n"
     ]
    }
   ],
   "source": [
    "# defining directories\n",
    "lfp_dir = r\"E:\\clickbait-ephys\\data\\preprocessed\"\n",
    "sniff_dir = r\"E:\\clickbait-ephys\\data\\sniff\"\n",
    "save_dir = r\"E:\\clickbait-ephys\\figures\\lfp_sniff\"\n",
    "\n",
    "\n",
    "# defining parameters\n",
    "mice = ['6001', '6002', '6003', '6000']\n",
    "sessions = ['0', '1', '2', '3', '4', '5', '6', '7', '8', '9', '10', '11', '12', '13', '14']\n",
    "fs = 30_000  # Define sampling rate for neural data\n",
    "sfs = 1_000  # Define sampling rate for sniff\n",
    "\n",
    "\n",
    "for mouse in mice:\n",
    "    spike_sessions = os.listdir(os.path.join(lfp_dir, mouse))\n",
    "    sniff_sessions = os.listdir(os.path.join(sniff_dir, mouse))\n",
    "\n",
    "\n",
    "    # loop through sessions\n",
    "    common_sessions = list(set(spike_sessions).intersection(sniff_sessions))\n",
    "    for session in common_sessions:\n",
    "\n",
    "\n",
    "            \n",
    "        print(f\"\\nProcessing {mouse}/{session}\")\n",
    "\n",
    "\n",
    "\n",
    "        # load the sniff and lfp data\n",
    "        sniff_params_file = os.path.join(sniff_dir, mouse, session, 'sniff_params.mat')\n",
    "        lfp_file = os.path.join(lfp_dir, mouse, session, 'lfp.npy')\n",
    "        if not os.path.exists(sniff_params_file):\n",
    "            print(f\"Sniff params file not found for {mouse}/{session}. Skipping...\")\n",
    "            continue\n",
    "        if not os.path.exists(lfp_file):\n",
    "            print(f\"LFP file not found for {mouse}/{session}. Skipping...\")\n",
    "            continue\n",
    "        inh_start, _, inh_end, _ = load_sniff_MATLAB(sniff_params_file)\n",
    "        lfps = np.load(lfp_file)\n",
    "        # downsample the lfp data\n",
    "        lfps = signal.decimate(lfps, fs // sfs, zero_phase=True)\n",
    "\n",
    "        # cleaning the inhalation times\n",
    "        freqs = sfs / np.diff(inh_start)\n",
    "        remove_indicies = np.where((freqs < 2) | (freqs > 12))[0]\n",
    "        inh_start = np.delete(inh_start, remove_indicies)\n",
    "        inh_end = np.delete(inh_end, remove_indicies)\n",
    "\n",
    "        # Creating the sniff rasters\n",
    "        current_save_path = os.path.join(save_dir, mouse, session)\n",
    "        os.makedirs(current_save_path, exist_ok=True)\n",
    "        build_sniff_rasters(lfps, inh_start, inh_end, current_save_path, max_workers = 1)\n"
   ]
  },
  {
   "cell_type": "code",
   "execution_count": null,
   "metadata": {},
   "outputs": [],
   "source": []
  }
 ],
 "metadata": {
  "kernelspec": {
   "display_name": ".venv",
   "language": "python",
   "name": "python3"
  },
  "language_info": {
   "codemirror_mode": {
    "name": "ipython",
    "version": 3
   },
   "file_extension": ".py",
   "mimetype": "text/x-python",
   "name": "python",
   "nbconvert_exporter": "python",
   "pygments_lexer": "ipython3",
   "version": "3.12.2"
  }
 },
 "nbformat": 4,
 "nbformat_minor": 2
}
