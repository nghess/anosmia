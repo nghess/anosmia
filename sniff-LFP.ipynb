{
 "cells": [
  {
   "cell_type": "markdown",
   "metadata": {},
   "source": [
    "# Inhalation aligned LFP rasters"
   ]
  },
  {
   "cell_type": "code",
   "execution_count": 3,
   "metadata": {},
   "outputs": [],
   "source": [
    "import numpy as np\n",
    "from utils import *\n",
    "from tqdm import tqdm\n",
    "import os"
   ]
  },
  {
   "cell_type": "code",
   "execution_count": null,
   "metadata": {},
   "outputs": [],
   "source": [
    "# defining directories\n",
    "lfp_dir = r\"E:\\clickbait-ephys\\data\\preprocessed\"\n",
    "sniff_dir = r\"E:\\clickbait-ephys\\data\\sniff\"\n",
    "save_dir = r\"E:\\clickbait-ephys\\figures\\lfp_sniff_dark\"\n",
    "\n",
    "\n",
    "# defining parameters\n",
    "mice = ['6000', '6001', '6002', '6003']\n",
    "mice = ['6002']\n",
    "sessions = ['0', '1', '2', '3', '4', '5', '6', '7', '8', '9', '10', '11', '12', '13', '14']\n",
    "sessions = ['0', '1']\n",
    "fs = 30_000  # Define sampling rate for neural data\n",
    "sfs = 1_000  # Define sampling rate for sniff\n",
    "lfs = 1_000  # Define sampling rate for lfps\n",
    "\n",
    "\n",
    "for mouse in mice:\n",
    "    spike_sessions = [s for s in os.listdir(os.path.join(lfp_dir, mouse)) \n",
    "                  if os.path.isdir(os.path.join(lfp_dir, mouse, s))]\n",
    "    sniff_sessions = [s for s in os.listdir(os.path.join(sniff_dir, mouse)) \n",
    "                  if os.path.isdir(os.path.join(sniff_dir, mouse, s))]\n",
    "\n",
    "    # loop through sessions\n",
    "    common_sessions = list(set(set(spike_sessions).intersection(sniff_sessions).intersection(sessions)))\n",
    "    for session in common_sessions:\n",
    "\n",
    "        print(f\"\\nProcessing {mouse}/{session}\")\n",
    "        # load the sniff and lfp data\n",
    "        sniff_params_file = os.path.join(sniff_dir, mouse, session, 'sniff_params.mat')\n",
    "        lfp_file = os.path.join(lfp_dir, mouse, session, 'lfp.npy')\n",
    "        if not os.path.exists(sniff_params_file) or not os.path.exists(lfp_file):\n",
    "            print(f\"Missing files for {mouse}/{session}. Skipping...\")\n",
    "            continue\n",
    "        inh_start, _, inh_end, _ = load_sniff_MATLAB(sniff_params_file)\n",
    "        lfps = np.load(lfp_file)\n",
    "\n",
    "        # downsample the lfp data\n",
    "        lfps = signal.decimate(lfps, fs // sfs, zero_phase=True)\n",
    "\n",
    "        # cleaning the inhalation times\n",
    "        freqs = sfs / np.diff(inh_start)\n",
    "        remove_indicies = np.where((freqs < 2) | (freqs > 12))[0]\n",
    "        inh_start = np.delete(inh_start, remove_indicies)\n",
    "        inh_end = np.delete(inh_end, remove_indicies)\n",
    "\n",
    "        # Creating the sniff rasters\n",
    "        current_save_path = os.path.join(save_dir, mouse, session)\n",
    "        os.makedirs(current_save_path, exist_ok=True)\n",
    "        print(\"Building sniff rasters...\")\n",
    "        build_sniff_rasters(lfps, inh_start, inh_end, current_save_path, max_workers = 4, dark_mode = True)\n"
   ]
  },
  {
   "cell_type": "code",
   "execution_count": null,
   "metadata": {},
   "outputs": [
    {
     "name": "stdout",
     "output_type": "stream",
     "text": [
      "\n",
      "Processing Mouse: 6000\n"
     ]
    },
    {
     "name": "stderr",
     "output_type": "stream",
     "text": [
      "Sessions: 100%|██████████| 14/14 [01:03<00:00,  4.55s/it]\n"
     ]
    },
    {
     "name": "stdout",
     "output_type": "stream",
     "text": [
      "\n",
      "Processing Mouse: 6001\n"
     ]
    },
    {
     "name": "stderr",
     "output_type": "stream",
     "text": [
      "Sessions:  93%|█████████▎| 13/14 [01:01<00:04,  4.80s/it]e:\\clickbait-ephys\\anosmia\\.venv\\Lib\\site-packages\\scipy\\signal\\_spectral_py.py:600: UserWarning: nperseg = 4000 is greater than input length  = 680, using nperseg = 680\n",
      "  freqs, _, Pxy = _spectral_helper(x, y, fs, window, nperseg, noverlap,\n",
      "Sessions:  93%|█████████▎| 13/14 [01:01<00:04,  4.72s/it]\n"
     ]
    },
    {
     "ename": "ValueError",
     "evalue": "noverlap must be less than nperseg.",
     "output_type": "error",
     "traceback": [
      "\u001b[1;31m---------------------------------------------------------------------------\u001b[0m",
      "\u001b[1;31mValueError\u001b[0m                                Traceback (most recent call last)",
      "Cell \u001b[1;32mIn[4], line 49\u001b[0m\n\u001b[0;32m     46\u001b[0m     \u001b[38;5;28;01mcontinue\u001b[39;00m\n\u001b[0;32m     48\u001b[0m \u001b[38;5;66;03m# Compute the power spectral density in each channel and average the results across channels\u001b[39;00m\n\u001b[1;32m---> 49\u001b[0m freqs, psd \u001b[38;5;241m=\u001b[39m \u001b[43mcompute_multichannel_psd\u001b[49m\u001b[43m(\u001b[49m\u001b[43mcurrent_lfp\u001b[49m\u001b[43m,\u001b[49m\u001b[43m \u001b[49m\u001b[43mlfs\u001b[49m\u001b[43m,\u001b[49m\u001b[43m \u001b[49m\u001b[43mnperseg\u001b[49m\u001b[43m \u001b[49m\u001b[38;5;241;43m=\u001b[39;49m\u001b[43m \u001b[49m\u001b[43mnperseg\u001b[49m\u001b[43m,\u001b[49m\u001b[43m \u001b[49m\u001b[43mnoverlap\u001b[49m\u001b[43m \u001b[49m\u001b[38;5;241;43m=\u001b[39;49m\u001b[43m \u001b[49m\u001b[43mnoverlap\u001b[49m\u001b[43m,\u001b[49m\u001b[43m \u001b[49m\u001b[43mmethod\u001b[49m\u001b[43m \u001b[49m\u001b[38;5;241;43m=\u001b[39;49m\u001b[43m \u001b[49m\u001b[38;5;124;43m'\u001b[39;49m\u001b[38;5;124;43mmean_psd\u001b[39;49m\u001b[38;5;124;43m'\u001b[39;49m\u001b[43m)\u001b[49m\n\u001b[0;32m     51\u001b[0m \u001b[38;5;66;03m# append the results to the data dictionary\u001b[39;00m\n\u001b[0;32m     52\u001b[0m data_dict[region]\u001b[38;5;241m.\u001b[39mappend({\n\u001b[0;32m     53\u001b[0m     \u001b[38;5;124m'\u001b[39m\u001b[38;5;124mmouse\u001b[39m\u001b[38;5;124m'\u001b[39m: mouse,\n\u001b[0;32m     54\u001b[0m     \u001b[38;5;124m'\u001b[39m\u001b[38;5;124msession\u001b[39m\u001b[38;5;124m'\u001b[39m: session,\n\u001b[0;32m     55\u001b[0m     \u001b[38;5;124m'\u001b[39m\u001b[38;5;124mfreqs\u001b[39m\u001b[38;5;124m'\u001b[39m: freqs,\n\u001b[0;32m     56\u001b[0m     \u001b[38;5;124m'\u001b[39m\u001b[38;5;124mpsd\u001b[39m\u001b[38;5;124m'\u001b[39m: psd\n\u001b[0;32m     57\u001b[0m })\n",
      "File \u001b[1;32me:\\clickbait-ephys\\anosmia\\utils.py:803\u001b[0m, in \u001b[0;36mcompute_multichannel_psd\u001b[1;34m(lfp_data, fs, nperseg, noverlap, method)\u001b[0m\n\u001b[0;32m    801\u001b[0m \u001b[38;5;66;03m# Compute PSD for each channel\u001b[39;00m\n\u001b[0;32m    802\u001b[0m \u001b[38;5;28;01mfor\u001b[39;00m ch \u001b[38;5;129;01min\u001b[39;00m \u001b[38;5;28mrange\u001b[39m(lfp_data\u001b[38;5;241m.\u001b[39mshape[\u001b[38;5;241m0\u001b[39m]):\n\u001b[1;32m--> 803\u001b[0m     freqs, psd \u001b[38;5;241m=\u001b[39m \u001b[43msignal\u001b[49m\u001b[38;5;241;43m.\u001b[39;49m\u001b[43mwelch\u001b[49m\u001b[43m(\u001b[49m\u001b[43mlfp_data\u001b[49m\u001b[43m[\u001b[49m\u001b[43mch\u001b[49m\u001b[43m]\u001b[49m\u001b[43m,\u001b[49m\u001b[43m \u001b[49m\u001b[43mfs\u001b[49m\u001b[38;5;241;43m=\u001b[39;49m\u001b[43mfs\u001b[49m\u001b[43m,\u001b[49m\u001b[43m \u001b[49m\u001b[43mnperseg\u001b[49m\u001b[38;5;241;43m=\u001b[39;49m\u001b[43mnperseg\u001b[49m\u001b[43m,\u001b[49m\u001b[43m \u001b[49m\u001b[43mnoverlap\u001b[49m\u001b[38;5;241;43m=\u001b[39;49m\u001b[43mnoverlap\u001b[49m\u001b[43m,\u001b[49m\u001b[43m \u001b[49m\u001b[43mwindow\u001b[49m\u001b[38;5;241;43m=\u001b[39;49m\u001b[38;5;124;43m'\u001b[39;49m\u001b[38;5;124;43mhann\u001b[39;49m\u001b[38;5;124;43m'\u001b[39;49m\u001b[43m)\u001b[49m\n\u001b[0;32m    804\u001b[0m     psds\u001b[38;5;241m.\u001b[39mappend(psd)\n\u001b[0;32m    806\u001b[0m psds \u001b[38;5;241m=\u001b[39m np\u001b[38;5;241m.\u001b[39marray(psds)  \u001b[38;5;66;03m# Shape: (16, frequencies)\u001b[39;00m\n",
      "File \u001b[1;32me:\\clickbait-ephys\\anosmia\\.venv\\Lib\\site-packages\\scipy\\signal\\_spectral_py.py:462\u001b[0m, in \u001b[0;36mwelch\u001b[1;34m(x, fs, window, nperseg, noverlap, nfft, detrend, return_onesided, scaling, axis, average)\u001b[0m\n\u001b[0;32m    300\u001b[0m \u001b[38;5;28;01mdef\u001b[39;00m \u001b[38;5;21mwelch\u001b[39m(x, fs\u001b[38;5;241m=\u001b[39m\u001b[38;5;241m1.0\u001b[39m, window\u001b[38;5;241m=\u001b[39m\u001b[38;5;124m'\u001b[39m\u001b[38;5;124mhann\u001b[39m\u001b[38;5;124m'\u001b[39m, nperseg\u001b[38;5;241m=\u001b[39m\u001b[38;5;28;01mNone\u001b[39;00m, noverlap\u001b[38;5;241m=\u001b[39m\u001b[38;5;28;01mNone\u001b[39;00m, nfft\u001b[38;5;241m=\u001b[39m\u001b[38;5;28;01mNone\u001b[39;00m,\n\u001b[0;32m    301\u001b[0m           detrend\u001b[38;5;241m=\u001b[39m\u001b[38;5;124m'\u001b[39m\u001b[38;5;124mconstant\u001b[39m\u001b[38;5;124m'\u001b[39m, return_onesided\u001b[38;5;241m=\u001b[39m\u001b[38;5;28;01mTrue\u001b[39;00m, scaling\u001b[38;5;241m=\u001b[39m\u001b[38;5;124m'\u001b[39m\u001b[38;5;124mdensity\u001b[39m\u001b[38;5;124m'\u001b[39m,\n\u001b[0;32m    302\u001b[0m           axis\u001b[38;5;241m=\u001b[39m\u001b[38;5;241m-\u001b[39m\u001b[38;5;241m1\u001b[39m, average\u001b[38;5;241m=\u001b[39m\u001b[38;5;124m'\u001b[39m\u001b[38;5;124mmean\u001b[39m\u001b[38;5;124m'\u001b[39m):\n\u001b[0;32m    303\u001b[0m \u001b[38;5;250m    \u001b[39m\u001b[38;5;124mr\u001b[39m\u001b[38;5;124;03m\"\"\"\u001b[39;00m\n\u001b[0;32m    304\u001b[0m \u001b[38;5;124;03m    Estimate power spectral density using Welch's method.\u001b[39;00m\n\u001b[0;32m    305\u001b[0m \n\u001b[1;32m   (...)\u001b[0m\n\u001b[0;32m    460\u001b[0m \n\u001b[0;32m    461\u001b[0m \u001b[38;5;124;03m    \"\"\"\u001b[39;00m\n\u001b[1;32m--> 462\u001b[0m     freqs, Pxx \u001b[38;5;241m=\u001b[39m \u001b[43mcsd\u001b[49m\u001b[43m(\u001b[49m\u001b[43mx\u001b[49m\u001b[43m,\u001b[49m\u001b[43m \u001b[49m\u001b[43mx\u001b[49m\u001b[43m,\u001b[49m\u001b[43m \u001b[49m\u001b[43mfs\u001b[49m\u001b[38;5;241;43m=\u001b[39;49m\u001b[43mfs\u001b[49m\u001b[43m,\u001b[49m\u001b[43m \u001b[49m\u001b[43mwindow\u001b[49m\u001b[38;5;241;43m=\u001b[39;49m\u001b[43mwindow\u001b[49m\u001b[43m,\u001b[49m\u001b[43m \u001b[49m\u001b[43mnperseg\u001b[49m\u001b[38;5;241;43m=\u001b[39;49m\u001b[43mnperseg\u001b[49m\u001b[43m,\u001b[49m\n\u001b[0;32m    463\u001b[0m \u001b[43m                     \u001b[49m\u001b[43mnoverlap\u001b[49m\u001b[38;5;241;43m=\u001b[39;49m\u001b[43mnoverlap\u001b[49m\u001b[43m,\u001b[49m\u001b[43m \u001b[49m\u001b[43mnfft\u001b[49m\u001b[38;5;241;43m=\u001b[39;49m\u001b[43mnfft\u001b[49m\u001b[43m,\u001b[49m\u001b[43m \u001b[49m\u001b[43mdetrend\u001b[49m\u001b[38;5;241;43m=\u001b[39;49m\u001b[43mdetrend\u001b[49m\u001b[43m,\u001b[49m\n\u001b[0;32m    464\u001b[0m \u001b[43m                     \u001b[49m\u001b[43mreturn_onesided\u001b[49m\u001b[38;5;241;43m=\u001b[39;49m\u001b[43mreturn_onesided\u001b[49m\u001b[43m,\u001b[49m\u001b[43m \u001b[49m\u001b[43mscaling\u001b[49m\u001b[38;5;241;43m=\u001b[39;49m\u001b[43mscaling\u001b[49m\u001b[43m,\u001b[49m\n\u001b[0;32m    465\u001b[0m \u001b[43m                     \u001b[49m\u001b[43maxis\u001b[49m\u001b[38;5;241;43m=\u001b[39;49m\u001b[43maxis\u001b[49m\u001b[43m,\u001b[49m\u001b[43m \u001b[49m\u001b[43maverage\u001b[49m\u001b[38;5;241;43m=\u001b[39;49m\u001b[43maverage\u001b[49m\u001b[43m)\u001b[49m\n\u001b[0;32m    467\u001b[0m     \u001b[38;5;28;01mreturn\u001b[39;00m freqs, Pxx\u001b[38;5;241m.\u001b[39mreal\n",
      "File \u001b[1;32me:\\clickbait-ephys\\anosmia\\.venv\\Lib\\site-packages\\scipy\\signal\\_spectral_py.py:600\u001b[0m, in \u001b[0;36mcsd\u001b[1;34m(x, y, fs, window, nperseg, noverlap, nfft, detrend, return_onesided, scaling, axis, average)\u001b[0m\n\u001b[0;32m    470\u001b[0m \u001b[38;5;28;01mdef\u001b[39;00m \u001b[38;5;21mcsd\u001b[39m(x, y, fs\u001b[38;5;241m=\u001b[39m\u001b[38;5;241m1.0\u001b[39m, window\u001b[38;5;241m=\u001b[39m\u001b[38;5;124m'\u001b[39m\u001b[38;5;124mhann\u001b[39m\u001b[38;5;124m'\u001b[39m, nperseg\u001b[38;5;241m=\u001b[39m\u001b[38;5;28;01mNone\u001b[39;00m, noverlap\u001b[38;5;241m=\u001b[39m\u001b[38;5;28;01mNone\u001b[39;00m, nfft\u001b[38;5;241m=\u001b[39m\u001b[38;5;28;01mNone\u001b[39;00m,\n\u001b[0;32m    471\u001b[0m         detrend\u001b[38;5;241m=\u001b[39m\u001b[38;5;124m'\u001b[39m\u001b[38;5;124mconstant\u001b[39m\u001b[38;5;124m'\u001b[39m, return_onesided\u001b[38;5;241m=\u001b[39m\u001b[38;5;28;01mTrue\u001b[39;00m, scaling\u001b[38;5;241m=\u001b[39m\u001b[38;5;124m'\u001b[39m\u001b[38;5;124mdensity\u001b[39m\u001b[38;5;124m'\u001b[39m,\n\u001b[0;32m    472\u001b[0m         axis\u001b[38;5;241m=\u001b[39m\u001b[38;5;241m-\u001b[39m\u001b[38;5;241m1\u001b[39m, average\u001b[38;5;241m=\u001b[39m\u001b[38;5;124m'\u001b[39m\u001b[38;5;124mmean\u001b[39m\u001b[38;5;124m'\u001b[39m):\n\u001b[0;32m    473\u001b[0m \u001b[38;5;250m    \u001b[39m\u001b[38;5;124mr\u001b[39m\u001b[38;5;124;03m\"\"\"\u001b[39;00m\n\u001b[0;32m    474\u001b[0m \u001b[38;5;124;03m    Estimate the cross power spectral density, Pxy, using Welch's method.\u001b[39;00m\n\u001b[0;32m    475\u001b[0m \n\u001b[1;32m   (...)\u001b[0m\n\u001b[0;32m    598\u001b[0m \n\u001b[0;32m    599\u001b[0m \u001b[38;5;124;03m    \"\"\"\u001b[39;00m\n\u001b[1;32m--> 600\u001b[0m     freqs, _, Pxy \u001b[38;5;241m=\u001b[39m \u001b[43m_spectral_helper\u001b[49m\u001b[43m(\u001b[49m\u001b[43mx\u001b[49m\u001b[43m,\u001b[49m\u001b[43m \u001b[49m\u001b[43my\u001b[49m\u001b[43m,\u001b[49m\u001b[43m \u001b[49m\u001b[43mfs\u001b[49m\u001b[43m,\u001b[49m\u001b[43m \u001b[49m\u001b[43mwindow\u001b[49m\u001b[43m,\u001b[49m\u001b[43m \u001b[49m\u001b[43mnperseg\u001b[49m\u001b[43m,\u001b[49m\u001b[43m \u001b[49m\u001b[43mnoverlap\u001b[49m\u001b[43m,\u001b[49m\n\u001b[0;32m    601\u001b[0m \u001b[43m                                     \u001b[49m\u001b[43mnfft\u001b[49m\u001b[43m,\u001b[49m\u001b[43m \u001b[49m\u001b[43mdetrend\u001b[49m\u001b[43m,\u001b[49m\u001b[43m \u001b[49m\u001b[43mreturn_onesided\u001b[49m\u001b[43m,\u001b[49m\u001b[43m \u001b[49m\u001b[43mscaling\u001b[49m\u001b[43m,\u001b[49m\n\u001b[0;32m    602\u001b[0m \u001b[43m                                     \u001b[49m\u001b[43maxis\u001b[49m\u001b[43m,\u001b[49m\u001b[43m \u001b[49m\u001b[43mmode\u001b[49m\u001b[38;5;241;43m=\u001b[39;49m\u001b[38;5;124;43m'\u001b[39;49m\u001b[38;5;124;43mpsd\u001b[39;49m\u001b[38;5;124;43m'\u001b[39;49m\u001b[43m)\u001b[49m\n\u001b[0;32m    604\u001b[0m     \u001b[38;5;66;03m# Average over windows.\u001b[39;00m\n\u001b[0;32m    605\u001b[0m     \u001b[38;5;28;01mif\u001b[39;00m \u001b[38;5;28mlen\u001b[39m(Pxy\u001b[38;5;241m.\u001b[39mshape) \u001b[38;5;241m>\u001b[39m\u001b[38;5;241m=\u001b[39m \u001b[38;5;241m2\u001b[39m \u001b[38;5;129;01mand\u001b[39;00m Pxy\u001b[38;5;241m.\u001b[39msize \u001b[38;5;241m>\u001b[39m \u001b[38;5;241m0\u001b[39m:\n",
      "File \u001b[1;32me:\\clickbait-ephys\\anosmia\\.venv\\Lib\\site-packages\\scipy\\signal\\_spectral_py.py:1851\u001b[0m, in \u001b[0;36m_spectral_helper\u001b[1;34m(x, y, fs, window, nperseg, noverlap, nfft, detrend, return_onesided, scaling, axis, mode, boundary, padded)\u001b[0m\n\u001b[0;32m   1849\u001b[0m     noverlap \u001b[38;5;241m=\u001b[39m \u001b[38;5;28mint\u001b[39m(noverlap)\n\u001b[0;32m   1850\u001b[0m \u001b[38;5;28;01mif\u001b[39;00m noverlap \u001b[38;5;241m>\u001b[39m\u001b[38;5;241m=\u001b[39m nperseg:\n\u001b[1;32m-> 1851\u001b[0m     \u001b[38;5;28;01mraise\u001b[39;00m \u001b[38;5;167;01mValueError\u001b[39;00m(\u001b[38;5;124m'\u001b[39m\u001b[38;5;124mnoverlap must be less than nperseg.\u001b[39m\u001b[38;5;124m'\u001b[39m)\n\u001b[0;32m   1852\u001b[0m nstep \u001b[38;5;241m=\u001b[39m nperseg \u001b[38;5;241m-\u001b[39m noverlap\n\u001b[0;32m   1854\u001b[0m \u001b[38;5;66;03m# Padding occurs after boundary extension, so that the extended signal ends\u001b[39;00m\n\u001b[0;32m   1855\u001b[0m \u001b[38;5;66;03m# in zeros, instead of introducing an impulse at the end.\u001b[39;00m\n\u001b[0;32m   1856\u001b[0m \u001b[38;5;66;03m# I.e. if x = [..., 3, 2]\u001b[39;00m\n\u001b[0;32m   1857\u001b[0m \u001b[38;5;66;03m# extend then pad -> [..., 3, 2, 2, 3, 0, 0, 0]\u001b[39;00m\n\u001b[0;32m   1858\u001b[0m \u001b[38;5;66;03m# pad then extend -> [..., 3, 2, 0, 0, 0, 2, 3]\u001b[39;00m\n",
      "\u001b[1;31mValueError\u001b[0m: noverlap must be less than nperseg."
     ]
    }
   ],
   "source": [
    "# define the data directory\n",
    "data_dir = r\"E:\\clickbait-ephys\\data\\preprocessed\"\n",
    "psd_dir = r\"E:\\clickbait-ephys\\data\\psd\"\n",
    "os.makedirs(psd_dir, exist_ok=True)\n",
    "\n",
    "# Define sampling rate for lfps\n",
    "lfs = 1000\n",
    "\n",
    "# Define the mice, sessions and regions of interest\n",
    "mice = ['6000', '6001']\n",
    "sessions = ['0', '1', '2', '3', '4', '5', '6', '7', '8', '9', '10', '11', '12', '13', '14']\n",
    "regions = ['ob', 'hc']\n",
    "\n",
    "# Define the parameters for PSD computation\n",
    "nperseg = 4000 # length of each segment\n",
    "noverlap = 2000 # number of overlapping points\n",
    "\n",
    "# Initialize dictionaries to PSD data\n",
    "data_dict = {regions[0]: [], regions[1]: []}\n",
    "\n",
    "\n",
    "# Looping through the mice and sessions\n",
    "files = os.listdir(data_dir)\n",
    "for mouse in mice:\n",
    "    print(f'\\nProcessing Mouse: {mouse}')\n",
    "    common_sessions = list(set(os.listdir(os.path.join(data_dir, mouse))).intersection(set(sessions)))\n",
    "\n",
    "    for session in tqdm(common_sessions, desc='Sessions'):\n",
    "        lfp_file = os.path.join(data_dir, mouse, session, 'lfp.npy')\n",
    "        if not os.path.exists(lfp_file):\n",
    "            print(f\"Missing LFP file for {mouse}/{session}. Skipping...\")\n",
    "            continue\n",
    "\n",
    "        # loading the lfp data\n",
    "        lfp = np.load(lfp_file)\n",
    "\n",
    "        for region in regions:\n",
    "            if region == 'ob':\n",
    "                current_lfp = lfp[16:]\n",
    "            elif region == 'hc':\n",
    "                current_lfp = lfp[:16]\n",
    "\n",
    "            # Check if the current_lfp is empty\n",
    "            if current_lfp.size == 0:\n",
    "                print(f\"Warning: Empty LFP data for {mouse}/{session}/{region}. Skipping...\")\n",
    "                continue\n",
    "\n",
    "            # ensure the lfp is long enough\n",
    "            if current_lfp.shape[0] < 10 * 60 * lfs:\n",
    "                print(f\"Warning: LFP data too short for {mouse}/{session}/{region}. Skipping...\")\n",
    "                continue\n",
    "\n",
    "            # Compute the power spectral density in each channel and average the results across channels\n",
    "            freqs, psd = compute_multichannel_psd(current_lfp, lfs, nperseg = nperseg, noverlap = noverlap, method = 'mean_psd')\n",
    "\n",
    "            # append the results to the data dictionary\n",
    "            data_dict[region].append({\n",
    "                'mouse': mouse,\n",
    "                'session': session,\n",
    "                'freqs': freqs,\n",
    "                'psd': psd\n",
    "            })\n",
    "\n",
    "def convert_psd_dict_to_df(psd_list):\n",
    "    \"\"\" Converts the list of PSD dictionaries to a Pandas DataFrame \"\"\"\n",
    "    data_list = []\n",
    "    for entry in psd_list:\n",
    "        mouse = entry['mouse']\n",
    "        session = entry['session']\n",
    "        freqs = entry['freqs']\n",
    "        psd = entry['psd']\n",
    "\n",
    "        # Create a dataframe for each session\n",
    "        temp_df = pd.DataFrame({'Frequency': freqs, 'psd': psd})\n",
    "        temp_df['Mouse'] = mouse\n",
    "        temp_df['Session'] = session\n",
    "        data_list.append(temp_df)\n",
    "\n",
    "    # Concatenate all dataframes\n",
    "    return pd.concat(data_list, ignore_index=True)\n",
    "\n",
    "# Convert both OB and HC data to DataFrames\n",
    "ob_df = convert_psd_dict_to_df(data_dict['ob'])\n",
    "hc_df = convert_psd_dict_to_df(data_dict['hc'])\n",
    "\n",
    "# Save the DataFrames to CSV files\n",
    "ob_df.to_csv(os.path.join(psd_dir, 'ob_psd.csv'), index=False)\n",
    "hc_df.to_csv(os.path.join(psd_dir, 'hc_psd.csv'), index=False)"
   ]
  },
  {
   "cell_type": "code",
   "execution_count": 2,
   "metadata": {},
   "outputs": [],
   "source": [
    "\n",
    "save_dir = r\"E:\\clickbait-ephys\\figures\\psd_dark\"\n",
    "os.makedirs(save_dir, exist_ok=True)\n",
    "psd_dir = r\"E:\\clickbait-ephys\\data\\psd\"\n",
    "ob_df = pd.read_csv(os.path.join(psd_dir, 'ob_psd.csv'))\n",
    "hc_df = pd.read_csv(os.path.join(psd_dir, 'hc_psd.csv'))\n",
    "# plotting the results\n",
    "plot_PSD(ob_df, hc_df, save_dir, dark_mode=True)"
   ]
  },
  {
   "cell_type": "code",
   "execution_count": null,
   "metadata": {},
   "outputs": [],
   "source": []
  }
 ],
 "metadata": {
  "kernelspec": {
   "display_name": ".venv",
   "language": "python",
   "name": "python3"
  },
  "language_info": {
   "codemirror_mode": {
    "name": "ipython",
    "version": 3
   },
   "file_extension": ".py",
   "mimetype": "text/x-python",
   "name": "python",
   "nbconvert_exporter": "python",
   "pygments_lexer": "ipython3",
   "version": "3.12.2"
  }
 },
 "nbformat": 4,
 "nbformat_minor": 2
}
