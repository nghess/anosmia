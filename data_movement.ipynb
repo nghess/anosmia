{
 "cells": [
  {
   "cell_type": "markdown",
   "metadata": {},
   "source": [
    "# Notebook for collecting and saving various subsets of the data"
   ]
  },
  {
   "cell_type": "code",
   "execution_count": 1,
   "metadata": {},
   "outputs": [],
   "source": [
    "import numpy as np\n",
    "import os"
   ]
  },
  {
   "cell_type": "markdown",
   "metadata": {},
   "source": [
    "### Collecting sniff and spiking data and saving it to a new directory"
   ]
  },
  {
   "cell_type": "code",
   "execution_count": null,
   "metadata": {},
   "outputs": [
    {
     "name": "stdout",
     "output_type": "stream",
     "text": [
      "C:\\Users\\smearlab\\clickbait-ephys\\preprocessed_data\\6000\\0\\sniff.npy\n",
      "C:\\Users\\smearlab\\clickbait-ephys\\preprocessed_data\\6000\\1\\sniff.npy\n",
      "C:\\Users\\smearlab\\clickbait-ephys\\preprocessed_data\\6000\\2\\sniff.npy\n",
      "C:\\Users\\smearlab\\clickbait-ephys\\preprocessed_data\\6000\\3\\sniff.npy\n",
      "C:\\Users\\smearlab\\clickbait-ephys\\preprocessed_data\\6000\\4\\sniff.npy\n",
      "C:\\Users\\smearlab\\clickbait-ephys\\preprocessed_data\\6000\\5\\sniff.npy\n",
      "C:\\Users\\smearlab\\clickbait-ephys\\preprocessed_data\\6000\\6\\sniff.npy\n",
      "C:\\Users\\smearlab\\clickbait-ephys\\preprocessed_data\\6000\\7\\sniff.npy\n",
      "C:\\Users\\smearlab\\clickbait-ephys\\preprocessed_data\\6001\\0\\sniff.npy\n",
      "C:\\Users\\smearlab\\clickbait-ephys\\preprocessed_data\\6001\\1\\sniff.npy\n",
      "C:\\Users\\smearlab\\clickbait-ephys\\preprocessed_data\\6001\\2\\sniff.npy\n",
      "C:\\Users\\smearlab\\clickbait-ephys\\preprocessed_data\\6001\\3\\sniff.npy\n",
      "C:\\Users\\smearlab\\clickbait-ephys\\preprocessed_data\\6001\\4\\sniff.npy\n",
      "C:\\Users\\smearlab\\clickbait-ephys\\preprocessed_data\\6001\\5\\sniff.npy\n",
      "C:\\Users\\smearlab\\clickbait-ephys\\preprocessed_data\\6001\\6\\sniff.npy\n",
      "C:\\Users\\smearlab\\clickbait-ephys\\preprocessed_data\\6001\\7\\sniff.npy\n",
      "C:\\Users\\smearlab\\clickbait-ephys\\preprocessed_data\\6002\\0\\sniff.npy\n",
      "C:\\Users\\smearlab\\clickbait-ephys\\preprocessed_data\\6002\\1\\sniff.npy\n",
      "C:\\Users\\smearlab\\clickbait-ephys\\preprocessed_data\\6002\\2\\sniff.npy\n",
      "C:\\Users\\smearlab\\clickbait-ephys\\preprocessed_data\\6002\\3\\sniff.npy\n",
      "C:\\Users\\smearlab\\clickbait-ephys\\preprocessed_data\\6002\\4\\sniff.npy\n",
      "C:\\Users\\smearlab\\clickbait-ephys\\preprocessed_data\\6002\\5\\sniff.npy\n",
      "C:\\Users\\smearlab\\clickbait-ephys\\preprocessed_data\\6002\\6\\sniff.npy\n",
      "C:\\Users\\smearlab\\clickbait-ephys\\preprocessed_data\\6002\\7\\sniff.npy\n",
      "C:\\Users\\smearlab\\clickbait-ephys\\preprocessed_data\\6003\\0\\sniff.npy\n",
      "C:\\Users\\smearlab\\clickbait-ephys\\preprocessed_data\\6003\\1\\sniff.npy\n",
      "C:\\Users\\smearlab\\clickbait-ephys\\preprocessed_data\\6003\\2\\sniff.npy\n",
      "C:\\Users\\smearlab\\clickbait-ephys\\preprocessed_data\\6003\\3\\sniff.npy\n",
      "C:\\Users\\smearlab\\clickbait-ephys\\preprocessed_data\\6003\\4\\sniff.npy\n",
      "C:\\Users\\smearlab\\clickbait-ephys\\preprocessed_data\\6003\\5\\sniff.npy\n",
      "C:\\Users\\smearlab\\clickbait-ephys\\preprocessed_data\\6003\\6\\sniff.npy\n",
      "C:\\Users\\smearlab\\clickbait-ephys\\preprocessed_data\\6003\\7\\sniff.npy\n"
     ]
    }
   ],
   "source": [
    "# defining directories\n",
    "data_dir = r\"C:\\Users\\smearlab\\clickbait-ephys\"\n",
    "save_dir = r\"D:\\clickbait-ephys\"\n",
    "\n",
    "# defining parameters\n",
    "mice = ['6000', '6001', '6002', '6003']\n",
    "\n",
    "\n",
    "for mouse in mice:\n",
    "    spike_dir = os.path.join(data_dir, 'kilosorted_data', mouse)\n",
    "    sniff_dir = os.path.join(data_dir, 'preprocessed_data', mouse)\n",
    "    spike_sessions = os.listdir(spike_dir)\n",
    "    sniff_sessions = os.listdir(sniff_dir)\n",
    "\n",
    "    # check that the same number of sessions exist for each mouse\n",
    "    assert len(spike_sessions) == len(sniff_sessions), f\"Different number of sessions for {mouse}\"\n",
    "\n",
    "    # loop through sessions\n",
    "    for spike_session, sniff_session in zip(spike_sessions, sniff_sessions):\n",
    "        sniff_file = os.path.join(sniff_dir, sniff_session, 'sniff.npy')\n",
    "        spike_times_file = os.path.join(spike_dir, spike_session, 'spike_times.npy')\n",
    "        spike_clusters_file = os.path.join(spike_dir, spike_session, 'spike_clusters.npy')\n",
    "\n",
    "        # creating a directory to save the data\n",
    "        save_dir_session = os.path.join(save_dir, mouse, spike_session)\n",
    "        os.makedirs(save_dir_session, exist_ok=True)\n",
    "        \n",
    "        # copy the data to the new directory\n",
    "        os.system(f'copy {sniff_file} {save_dir_session}')\n",
    "        os.system(f'copy {spike_times_file} {save_dir_session}')\n",
    "        os.system(f'copy {spike_clusters_file} {save_dir_session}')\n",
    "        print(f\"Copied data for {mouse} {spike_session} to {save_dir_session}\")\n",
    "\n",
    "\n",
    "        \n",
    "\n",
    "            "
   ]
  }
 ],
 "metadata": {
  "kernelspec": {
   "display_name": ".venv",
   "language": "python",
   "name": "python3"
  },
  "language_info": {
   "codemirror_mode": {
    "name": "ipython",
    "version": 3
   },
   "file_extension": ".py",
   "mimetype": "text/x-python",
   "name": "python",
   "nbconvert_exporter": "python",
   "pygments_lexer": "ipython3",
   "version": "3.12.2"
  }
 },
 "nbformat": 4,
 "nbformat_minor": 2
}
