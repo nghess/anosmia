{
 "cells": [
  {
   "cell_type": "markdown",
   "metadata": {},
   "source": [
    "# Notebook for collecting and saving various subsets of the data"
   ]
  },
  {
   "cell_type": "code",
   "execution_count": null,
   "metadata": {},
   "outputs": [],
   "source": [
    "import numpy as np\n",
    "import os"
   ]
  },
  {
   "cell_type": "markdown",
   "metadata": {},
   "source": [
    "### Collecting sniff and spiking data and saving it to a new directory"
   ]
  },
  {
   "cell_type": "code",
   "execution_count": null,
   "metadata": {},
   "outputs": [],
   "source": [
    "# defining directories\n",
    "spike_dir = r\"E:\\clickbait-ephys\\kilosorted_data_20um_tetrode\"\n",
    "sniff_dir = r\"C:\\Users\\smearlab\\clickbait-ephys\\preprocessed_data\"\n",
    "save_dir = r\"D:\\clickbait-ephys(3-5-25)\"\n",
    "os.makedirs(save_dir, exist_ok=True)\n",
    "\n",
    "# defining parameters\n",
    "mice = ['6000', '6001', '6002', '6003']\n",
    "\n",
    "\n",
    "for mouse in mice:\n",
    "    spike_sessions = os.listdir(os.path.join(spike_dir, mouse))\n",
    "    sniff_sessions = os.listdir(os.path.join(sniff_dir, mouse))\n",
    "    \n",
    "\n",
    "\n",
    "    # check that the same number of sessions exist for each mouse\n",
    "    assert len(spike_sessions) == len(sniff_sessions), f\"Different number of sessions for {mouse}\"\n",
    "\n",
    "    # loop through sessions\n",
    "    for spike_session, sniff_session in zip(spike_sessions, sniff_sessions):\n",
    "\n",
    "        try:\n",
    "\n",
    "            # creating a directory to save the data\n",
    "            save_dir_session = os.path.join(save_dir, mouse, spike_session)\n",
    "            os.makedirs(save_dir_session, exist_ok=True)\n",
    "\n",
    "            # Getting the files to transfer\n",
    "            sniff_file = os.path.join(sniff_dir, mouse, sniff_session, 'sniff.npy')\n",
    "            spike_times_file = os.path.join(spike_dir, mouse, spike_session, 'spike_times.npy')\n",
    "            spike_clusters_file = os.path.join(spike_dir, mouse, spike_session, 'spike_clusters.npy')\n",
    "            spike_cluster_group_file = os.path.join(spike_dir, mouse, spike_session, 'cluster_group.tsv')\n",
    "\n",
    "            # copy the data to the new directory\n",
    "            os.system(f'copy {sniff_file} {save_dir_session}')\n",
    "            os.system(f'copy {spike_times_file} {save_dir_session}')\n",
    "            os.system(f'copy {spike_clusters_file} {save_dir_session}')\n",
    "\n",
    "\n",
    "            # loading the templates to find the best channel for each unit\n",
    "            template_path = os.path.join(spike_dir, mouse, spike_session, 'templates.npy')\n",
    "            template_ind_path = os.path.join(spike_dir, mouse, spike_session, 'templates_ind.npy')\n",
    "            templates = np.load(template_path)\n",
    "            templates_ind = np.load(template_ind_path)\n",
    "\n",
    "            # Find peak amplitude channel for each template and assign to unit\n",
    "            peak_channels = np.argmax(np.max(np.abs(templates), axis=1), axis=1)\n",
    "            unit_best_channels = {unit: templates_ind[unit, peak_channels[unit]] for unit in range(len(peak_channels))}\n",
    "\n",
    "            # Separate OB and HC units\n",
    "            hc_units = np.array([unit for unit, ch in unit_best_channels.items() if ch in range(0, 16)])\n",
    "            ob_units = np.array([unit for unit, ch in unit_best_channels.items() if ch in range(16, 32)])\n",
    "            \n",
    "            # creating one text file to save the best channel for each unit and the region (OB vs HC)\n",
    "            with open(os.path.join(save_dir_session, 'unit_best_channels.txt'), 'w') as f:\n",
    "                f.write('unit,channel,region\\n')\n",
    "                for unit, ch in unit_best_channels.items():\n",
    "                    region = 'HC' if unit in hc_units else 'OB'\n",
    "                    f.write(f'{unit},{ch},{region}\\n')\n",
    "\n",
    "            \n",
    "            print(f\"Copied data for {mouse} {spike_session} to {save_dir_session}\")\n",
    "        except Exception as e:\n",
    "            print(f\"Error in {mouse} {spike_session}\")\n",
    "            print(e)\n",
    "            continue"
   ]
  },
  {
   "cell_type": "markdown",
   "metadata": {},
   "source": [
    "### Building sniff data directory"
   ]
  },
  {
   "cell_type": "code",
   "execution_count": null,
   "metadata": {},
   "outputs": [],
   "source": [
    "sniff_params_dir = r\"C:\\Users\\smearlab\\Downloads\\clickbait_ephys\"\n",
    "save_dir = r\"E:\\clickbait-ephys\\data\\sniff\"\n",
    "\n",
    "mice = ['6000', '6001', '6002', '6003']\n",
    "\n",
    "for mouse in mice:\n",
    "    mouse_dir = os.path.join(sniff_params_dir, mouse)\n",
    "    sessions = os.listdir(mouse_dir)\n",
    "    for session in sessions:\n",
    "        session_dir = os.path.join(mouse_dir, session)\n",
    "        files = os.listdir(session_dir)\n",
    "        if 'sniff_params.mat' in files and 'sniff.npy' in files:\n",
    "            save_dir_session = os.path.join(save_dir, mouse, session)\n",
    "            os.makedirs(save_dir_session, exist_ok=True)\n",
    "            os.system(f'copy {os.path.join(session_dir, \"sniff_params.mat\")} {save_dir_session}')\n",
    "            os.system(f'copy {os.path.join(session_dir, \"sniff.npy\")} {save_dir_session}')\n",
    "            print(f\"Copied data for {mouse} {session} to {save_dir_session}\")"
   ]
  }
 ],
 "metadata": {
  "kernelspec": {
   "display_name": ".venv",
   "language": "python",
   "name": "python3"
  },
  "language_info": {
   "codemirror_mode": {
    "name": "ipython",
    "version": 3
   },
   "file_extension": ".py",
   "mimetype": "text/x-python",
   "name": "python",
   "nbconvert_exporter": "python",
   "pygments_lexer": "ipython3",
   "version": "3.12.2"
  }
 },
 "nbformat": 4,
 "nbformat_minor": 2
}
