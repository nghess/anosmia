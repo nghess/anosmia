{
 "cells": [
  {
   "cell_type": "code",
   "execution_count": null,
   "metadata": {},
   "outputs": [],
   "source": [
    "from ks4_batch import *"
   ]
  },
  {
   "cell_type": "markdown",
   "metadata": {},
   "source": [
    "### Load data paths"
   ]
  },
  {
   "cell_type": "code",
   "execution_count": null,
   "metadata": {},
   "outputs": [
    {
     "name": "stdout",
     "output_type": "stream",
     "text": [
      "Found 32 mua.npy files\n"
     ]
    }
   ],
   "source": [
    "data_paths = get_mua_paths(r'C:/Users/smearlab/clickbait-ephys/preprocessed_data', show_paths=False)"
   ]
  },
  {
   "cell_type": "code",
   "execution_count": null,
   "metadata": {},
   "outputs": [
    {
     "name": "stderr",
     "output_type": "stream",
     "text": [
      "kilosort.run_kilosort: Kilosort version 4.0.20\n",
      "kilosort.run_kilosort: Python version 3.10.16\n",
      "kilosort.run_kilosort: ----------------------------------------\n",
      "kilosort.run_kilosort: System information:\n",
      "kilosort.run_kilosort: Windows-10-10.0.26100-SP0 AMD64\n",
      "kilosort.run_kilosort: Intel64 Family 6 Model 191 Stepping 2, GenuineIntel\n",
      "kilosort.run_kilosort: Using GPU for PyTorch computations. Specify `device` to change this.\n",
      "kilosort.run_kilosort: Using CUDA device: NVIDIA GeForce RTX 3060 12.00GB\n",
      "kilosort.run_kilosort: ----------------------------------------\n",
      "kilosort.run_kilosort: Sorting C:\\Users\\smearlab\\clickbait-ephys\\kilosort_test\\6002_7\\6002_7.dat\n",
      "kilosort.run_kilosort: Interpreting binary file as default dtype='int16'. If data was saved in a different format, specify `data_dtype`.\n",
      "kilosort.run_kilosort: Skipping common average reference.\n",
      "kilosort.run_kilosort:  \n",
      "kilosort.run_kilosort: Computing preprocessing variables.\n",
      "kilosort.run_kilosort: ----------------------------------------\n",
      "kilosort.run_kilosort: N samples: 55863000\n",
      "kilosort.run_kilosort: N seconds: 1862.1\n",
      "kilosort.run_kilosort: N batches: 932\n",
      "kilosort.run_kilosort: Preprocessing filters computed in  0.45s; total  0.45s\n",
      "kilosort.run_kilosort:  \n",
      "kilosort.run_kilosort: Resource usage after preprocessing\n",
      "kilosort.run_kilosort: ********************************************************\n",
      "kilosort.run_kilosort: CPU usage:     3.70 %\n",
      "kilosort.run_kilosort: Memory:       45.40 %     |     43.51   /    95.84 GB\n",
      "kilosort.run_kilosort: ------------------------------------------------------\n",
      "kilosort.run_kilosort: GPU usage:    `conda install pynvml` for GPU usage\n",
      "kilosort.run_kilosort: GPU memory:   26.21 %     |      3.15   /    12.00 GB\n",
      "kilosort.run_kilosort: Allocated:     0.07 %     |      0.01   /    12.00 GB\n",
      "kilosort.run_kilosort: Max alloc:     5.04 %     |      0.60   /    12.00 GB\n",
      "kilosort.run_kilosort: ********************************************************\n",
      "kilosort.run_kilosort:  \n",
      "kilosort.run_kilosort: Computing drift correction.\n",
      "kilosort.run_kilosort: ----------------------------------------\n",
      "kilosort.datashift: nblocks = 0, skipping drift correction\n",
      "kilosort.run_kilosort: drift computed in  0.00s; total  0.48s\n",
      "kilosort.run_kilosort:  \n",
      "kilosort.run_kilosort: Resource usage after drift correction\n",
      "kilosort.run_kilosort: ********************************************************\n",
      "kilosort.run_kilosort: CPU usage:    15.80 %\n",
      "kilosort.run_kilosort: Memory:       45.40 %     |     43.51   /    95.84 GB\n",
      "kilosort.run_kilosort: ------------------------------------------------------\n",
      "kilosort.run_kilosort: GPU usage:    `conda install pynvml` for GPU usage\n",
      "kilosort.run_kilosort: GPU memory:   26.21 %     |      3.15   /    12.00 GB\n",
      "kilosort.run_kilosort: Allocated:     0.07 %     |      0.01   /    12.00 GB\n",
      "kilosort.run_kilosort: Max alloc:     5.04 %     |      0.60   /    12.00 GB\n",
      "kilosort.run_kilosort: ********************************************************\n",
      "kilosort.io :  \n",
      "kilosort.io : ========================================\n",
      "kilosort.io : Saving drift-corrected copy of data to: C:\\Users\\smearlab\\clickbait-ephys\\kilosort_test\\6002_7\\kilosort_test\\6002_7\\temp_wh.dat...\n",
      "kilosort.io : Writing batch 0/932...\n",
      "kilosort.io : Writing batch 100/932...\n",
      "kilosort.io : Writing batch 200/932...\n",
      "kilosort.io : Writing batch 300/932...\n",
      "kilosort.io : Writing batch 400/932...\n",
      "kilosort.io : Writing batch 500/932...\n",
      "kilosort.io : Writing batch 600/932...\n",
      "kilosort.io : Writing batch 700/932...\n",
      "kilosort.io : Writing batch 800/932...\n",
      "kilosort.io : Writing batch 900/932...\n",
      "kilosort.io : ========================================\n",
      "kilosort.io : Copying finished.\n",
      "kilosort.io :  \n",
      "kilosort.run_kilosort:  \n",
      "kilosort.run_kilosort: Extracting spikes using templates\n",
      "kilosort.run_kilosort: ----------------------------------------\n",
      "kilosort.spikedetect: Re-computing universal templates from data.\n",
      "kilosort.spikedetect: Number of universal templates: 56\n",
      "kilosort.spikedetect: Detecting spikes...\n",
      "100%|██████████| 932/932 [00:31<00:00, 29.25it/s]\n",
      "kilosort.run_kilosort: 365211 spikes extracted in  32.77s; total  75.44s\n",
      "kilosort.run_kilosort:  \n",
      "kilosort.run_kilosort: First clustering\n",
      "kilosort.run_kilosort: ----------------------------------------\n",
      "100%|██████████| 29/29 [00:08<00:00,  3.58it/s] \n",
      "kilosort.run_kilosort: 67 clusters found, in  8.17s; total  83.61s\n",
      "kilosort.run_kilosort:  \n",
      "kilosort.run_kilosort: Extracting spikes using cluster waveforms\n",
      "kilosort.run_kilosort: ----------------------------------------\n",
      "100%|██████████| 932/932 [00:20<00:00, 45.40it/s]\n",
      "kilosort.run_kilosort: 762085 spikes extracted in  20.65s; total  104.26s\n",
      "kilosort.run_kilosort:  \n",
      "kilosort.run_kilosort: Resource usage after spike detection\n",
      "kilosort.run_kilosort: ********************************************************\n",
      "kilosort.run_kilosort: CPU usage:    26.90 %\n",
      "kilosort.run_kilosort: Memory:       47.19 %     |     45.22   /    95.84 GB\n",
      "kilosort.run_kilosort: ------------------------------------------------------\n",
      "kilosort.run_kilosort: GPU usage:    `conda install pynvml` for GPU usage\n",
      "kilosort.run_kilosort: GPU memory:   26.21 %     |      3.15   /    12.00 GB\n",
      "kilosort.run_kilosort: Allocated:     0.07 %     |      0.01   /    12.00 GB\n",
      "kilosort.run_kilosort: Max alloc:     5.04 %     |      0.60   /    12.00 GB\n",
      "kilosort.run_kilosort: ********************************************************\n",
      "kilosort.run_kilosort:  \n",
      "kilosort.run_kilosort: Final clustering\n",
      "kilosort.run_kilosort: ----------------------------------------\n",
      "100%|██████████| 29/29 [00:18<00:00,  1.57it/s] \n",
      "kilosort.run_kilosort: 60 clusters found, in  18.54s; total  122.81s\n",
      "kilosort.run_kilosort:  \n",
      "kilosort.run_kilosort: Merging clusters\n",
      "kilosort.run_kilosort: ----------------------------------------\n",
      "kilosort.run_kilosort: 52 units found, in  0.31s; total  123.13s\n",
      "kilosort.run_kilosort:  \n",
      "kilosort.run_kilosort: Resource usage after clustering\n",
      "kilosort.run_kilosort: ********************************************************\n",
      "kilosort.run_kilosort: CPU usage:    27.50 %\n",
      "kilosort.run_kilosort: Memory:       43.76 %     |     41.94   /    95.84 GB\n",
      "kilosort.run_kilosort: ------------------------------------------------------\n",
      "kilosort.run_kilosort: GPU usage:    `conda install pynvml` for GPU usage\n",
      "kilosort.run_kilosort: GPU memory:   30.46 %     |      3.65   /    12.00 GB\n",
      "kilosort.run_kilosort: Allocated:     0.07 %     |      0.01   /    12.00 GB\n",
      "kilosort.run_kilosort: Max alloc:     5.33 %     |      0.64   /    12.00 GB\n",
      "kilosort.run_kilosort: ********************************************************\n",
      "kilosort.run_kilosort:  \n",
      "kilosort.run_kilosort: Saving to phy and computing refractory periods\n",
      "kilosort.run_kilosort: ----------------------------------------\n",
      "kilosort.run_kilosort: 20 units found with good refractory periods\n",
      "kilosort.run_kilosort: Total runtime: 127.04s = 00:02:7 h:m:s\n",
      "kilosort.run_kilosort: Sorting output saved in: C:\\Users\\smearlab\\clickbait-ephys\\kilosort_test\\6002_7\\kilosort_test\\6002_7.\n",
      "kilosort.run_kilosort:  \n",
      "kilosort.run_kilosort: Resource usage after saving\n",
      "kilosort.run_kilosort: ********************************************************\n",
      "kilosort.run_kilosort: CPU usage:    28.80 %\n",
      "kilosort.run_kilosort: Memory:       44.35 %     |     42.50   /    95.84 GB\n",
      "kilosort.run_kilosort: ------------------------------------------------------\n",
      "kilosort.run_kilosort: GPU usage:    `conda install pynvml` for GPU usage\n",
      "kilosort.run_kilosort: GPU memory:   30.46 %     |      3.65   /    12.00 GB\n",
      "kilosort.run_kilosort: Allocated:     0.07 %     |      0.01   /    12.00 GB\n",
      "kilosort.run_kilosort: Max alloc:     5.33 %     |      0.64   /    12.00 GB\n",
      "kilosort.run_kilosort: ********************************************************\n"
     ]
    },
    {
     "name": "stdout",
     "output_type": "stream",
     "text": [
      "Processed 32 of 32\n"
     ]
    }
   ],
   "source": [
    "# Root directory for saving Kilosort results\n",
    "save_path = r'C:/Users/smearlab/clickbait-ephys/kilosorted_data/'\n",
    "\n",
    "# Kilosort each data path\n",
    "for ii, data_path in enumerate(data_paths):\n",
    "    results_path = os.path.join(save_path, get_savedirs(data_path))\n",
    "    kilosort(data_path=data_path, save_path=results_path, probe_path='probe_maps/8_tetrode_2_region.json')\n",
    "    print(f'Processed {ii+1} of {len(data_paths)}')"
   ]
  }
 ],
 "metadata": {
  "kernelspec": {
   "display_name": "kilosort4",
   "language": "python",
   "name": "python3"
  },
  "language_info": {
   "codemirror_mode": {
    "name": "ipython",
    "version": 3
   },
   "file_extension": ".py",
   "mimetype": "text/x-python",
   "name": "python",
   "nbconvert_exporter": "python",
   "pygments_lexer": "ipython3",
   "version": "3.10.16"
  }
 },
 "nbformat": 4,
 "nbformat_minor": 2
}
