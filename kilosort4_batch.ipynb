{
 "cells": [
  {
   "cell_type": "code",
   "execution_count": 1,
   "metadata": {},
   "outputs": [],
   "source": [
    "from utils import get_file_paths, get_savedirs, kilosort\n",
    "from IPython.display import clear_output\n",
    "import os"
   ]
  },
  {
   "cell_type": "markdown",
   "metadata": {},
   "source": [
    "### Initialize paths"
   ]
  },
  {
   "cell_type": "code",
   "execution_count": 2,
   "metadata": {},
   "outputs": [],
   "source": [
    "skip_mice = ['6002', '6003']\n",
    "skip_sessions = ['0', '1', '2', '3', '4', '5', '6', '7', '8', '9', '10', '11', '12', '13', '14']"
   ]
  },
  {
   "cell_type": "code",
   "execution_count": 3,
   "metadata": {},
   "outputs": [
    {
     "name": "stdout",
     "output_type": "stream",
     "text": [
      "Found 99 mua.npy files\n",
      "After filtering: 19 files (skipped 80)\n",
      "0 E:\\clickbait-ephys\\data\\preprocessed\\6000\\15\\mua.npy\n",
      "1 E:\\clickbait-ephys\\data\\preprocessed\\6000\\16\\mua.npy\n",
      "2 E:\\clickbait-ephys\\data\\preprocessed\\6000\\17\\mua.npy\n",
      "3 E:\\clickbait-ephys\\data\\preprocessed\\6000\\18\\mua.npy\n",
      "4 E:\\clickbait-ephys\\data\\preprocessed\\6000\\19\\mua.npy\n",
      "5 E:\\clickbait-ephys\\data\\preprocessed\\6000\\21\\mua.npy\n",
      "6 E:\\clickbait-ephys\\data\\preprocessed\\6000\\22\\mua.npy\n",
      "7 E:\\clickbait-ephys\\data\\preprocessed\\6000\\23\\mua.npy\n",
      "8 E:\\clickbait-ephys\\data\\preprocessed\\6000\\24\\mua.npy\n",
      "9 E:\\clickbait-ephys\\data\\preprocessed\\6001\\15\\mua.npy\n",
      "10 E:\\clickbait-ephys\\data\\preprocessed\\6001\\16\\mua.npy\n",
      "11 E:\\clickbait-ephys\\data\\preprocessed\\6001\\17\\mua.npy\n",
      "12 E:\\clickbait-ephys\\data\\preprocessed\\6001\\18\\mua.npy\n",
      "13 E:\\clickbait-ephys\\data\\preprocessed\\6001\\19\\mua.npy\n",
      "14 E:\\clickbait-ephys\\data\\preprocessed\\6001\\20\\mua.npy\n",
      "15 E:\\clickbait-ephys\\data\\preprocessed\\6001\\21\\mua.npy\n",
      "16 E:\\clickbait-ephys\\data\\preprocessed\\6001\\22\\mua.npy\n",
      "17 E:\\clickbait-ephys\\data\\preprocessed\\6001\\23\\mua.npy\n",
      "18 E:\\clickbait-ephys\\data\\preprocessed\\6001\\24\\mua.npy\n"
     ]
    }
   ],
   "source": [
    "# Load paths for subdirectories containing mua.npy files\n",
    "data_paths = get_file_paths(r\"E:\\clickbait-ephys\\data\\preprocessed\", extension='npy', keyword='mua', print_paths=True, skip_mice=skip_mice, skip_sessions=skip_sessions)\n",
    "# Root directory for saving Kilosort results\n",
    "save_path = r\"E:\\clickbait-ephys\\data\\kilosorted_data_20um_tetrode\""
   ]
  },
  {
   "cell_type": "markdown",
   "metadata": {},
   "source": [
    "### Kilosort data"
   ]
  },
  {
   "cell_type": "code",
   "execution_count": 4,
   "metadata": {},
   "outputs": [
    {
     "name": "stdout",
     "output_type": "stream",
     "text": [
      "All done!\n",
      "19 of 19 mua.npy files processed\n"
     ]
    }
   ],
   "source": [
    "count = 0\n",
    "\n",
    "for data_path in data_paths[count:]:\n",
    "    print(f'Processing mua.npy {count+1} of {len(data_paths)}')\n",
    "    results_path = os.path.join(save_path, get_savedirs(data_path))\n",
    "    kilosort(data_path, results_path, probe_path='probe_maps/8_tetrode_2_region_20um.json')\n",
    "    clear_output(wait=True)\n",
    "    count += 1\n",
    "\n",
    "print('All done!')\n",
    "print(f'{count} of {len(data_paths)} mua.npy files processed')"
   ]
  }
 ],
 "metadata": {
  "kernelspec": {
   "display_name": ".venv",
   "language": "python",
   "name": "python3"
  },
  "language_info": {
   "codemirror_mode": {
    "name": "ipython",
    "version": 3
   },
   "file_extension": ".py",
   "mimetype": "text/x-python",
   "name": "python",
   "nbconvert_exporter": "python",
   "pygments_lexer": "ipython3",
   "version": "3.12.2"
  }
 },
 "nbformat": 4,
 "nbformat_minor": 2
}
