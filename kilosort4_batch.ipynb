{
 "cells": [
  {
   "cell_type": "code",
   "execution_count": null,
   "metadata": {},
   "outputs": [],
   "source": [
    "from utils import get_file_paths, get_savedirs, kilosort\n",
    "from IPython.display import clear_output\n",
    "import os"
   ]
  },
  {
   "cell_type": "markdown",
   "metadata": {},
   "source": [
    "### Initialize paths"
   ]
  },
  {
   "cell_type": "code",
   "execution_count": 1,
   "metadata": {},
   "outputs": [],
   "source": [
    "skip_mice = ['6002', '6003']\n",
    "skip_sessions = ['0', '1', '2', '3', '4', '5', '6', '7', '8', '9', '10', '11', '12', '13', '14']"
   ]
  },
  {
   "cell_type": "code",
   "execution_count": 6,
   "metadata": {},
   "outputs": [
    {
     "name": "stdout",
     "output_type": "stream",
     "text": [
      "Found 99 mua.npy files\n",
      "After filtering: 33 files (skipped 66)\n",
      "0 E:\\clickbait-ephys\\data\\preprocessed\\6001\\14\\mua.npy\n",
      "1 E:\\clickbait-ephys\\data\\preprocessed\\6001\\15\\mua.npy\n",
      "2 E:\\clickbait-ephys\\data\\preprocessed\\6001\\16\\mua.npy\n",
      "3 E:\\clickbait-ephys\\data\\preprocessed\\6001\\17\\mua.npy\n",
      "4 E:\\clickbait-ephys\\data\\preprocessed\\6001\\18\\mua.npy\n",
      "5 E:\\clickbait-ephys\\data\\preprocessed\\6001\\19\\mua.npy\n",
      "6 E:\\clickbait-ephys\\data\\preprocessed\\6001\\20\\mua.npy\n",
      "7 E:\\clickbait-ephys\\data\\preprocessed\\6001\\21\\mua.npy\n",
      "8 E:\\clickbait-ephys\\data\\preprocessed\\6001\\22\\mua.npy\n",
      "9 E:\\clickbait-ephys\\data\\preprocessed\\6001\\23\\mua.npy\n",
      "10 E:\\clickbait-ephys\\data\\preprocessed\\6001\\24\\mua.npy\n",
      "11 E:\\clickbait-ephys\\data\\preprocessed\\6002\\14\\mua.npy\n",
      "12 E:\\clickbait-ephys\\data\\preprocessed\\6002\\15\\mua.npy\n",
      "13 E:\\clickbait-ephys\\data\\preprocessed\\6002\\16\\mua.npy\n",
      "14 E:\\clickbait-ephys\\data\\preprocessed\\6002\\17\\mua.npy\n",
      "15 E:\\clickbait-ephys\\data\\preprocessed\\6002\\18\\mua.npy\n",
      "16 E:\\clickbait-ephys\\data\\preprocessed\\6002\\19\\mua.npy\n",
      "17 E:\\clickbait-ephys\\data\\preprocessed\\6002\\20\\mua.npy\n",
      "18 E:\\clickbait-ephys\\data\\preprocessed\\6002\\21\\mua.npy\n",
      "19 E:\\clickbait-ephys\\data\\preprocessed\\6002\\22\\mua.npy\n",
      "20 E:\\clickbait-ephys\\data\\preprocessed\\6002\\23\\mua.npy\n",
      "21 E:\\clickbait-ephys\\data\\preprocessed\\6002\\24\\mua.npy\n",
      "22 E:\\clickbait-ephys\\data\\preprocessed\\6003\\14\\mua.npy\n",
      "23 E:\\clickbait-ephys\\data\\preprocessed\\6003\\15\\mua.npy\n",
      "24 E:\\clickbait-ephys\\data\\preprocessed\\6003\\16\\mua.npy\n",
      "25 E:\\clickbait-ephys\\data\\preprocessed\\6003\\17\\mua.npy\n",
      "26 E:\\clickbait-ephys\\data\\preprocessed\\6003\\18\\mua.npy\n",
      "27 E:\\clickbait-ephys\\data\\preprocessed\\6003\\19\\mua.npy\n",
      "28 E:\\clickbait-ephys\\data\\preprocessed\\6003\\20\\mua.npy\n",
      "29 E:\\clickbait-ephys\\data\\preprocessed\\6003\\21\\mua.npy\n",
      "30 E:\\clickbait-ephys\\data\\preprocessed\\6003\\22\\mua.npy\n",
      "31 E:\\clickbait-ephys\\data\\preprocessed\\6003\\23\\mua.npy\n",
      "32 E:\\clickbait-ephys\\data\\preprocessed\\6003\\24\\mua.npy\n"
     ]
    }
   ],
   "source": [
    "# Load paths for subdirectories containing mua.npy files\n",
    "data_paths = get_file_paths(r\"E:\\clickbait-ephys\\data\\preprocessed\", extension='npy', keyword='mua', print_paths=True, skip_mice=skip_mice, skip_sessions=skip_sessions)\n",
    "# Root directory for saving Kilosort results\n",
    "save_path = r\"E:\\clickbait-ephys\\data\\kilosorted_data_20um_tetrode\""
   ]
  },
  {
   "cell_type": "markdown",
   "metadata": {},
   "source": [
    "### Kilosort data"
   ]
  },
  {
   "cell_type": "code",
   "execution_count": null,
   "metadata": {},
   "outputs": [
    {
     "name": "stdout",
     "output_type": "stream",
     "text": [
      "Processing mua.npy 13 of 33\n",
      "E:\\clickbait-ephys\\data\\preprocessed\\6002\\15\n",
      "Data import shape:(32, 59788500)\n"
     ]
    },
    {
     "name": "stderr",
     "output_type": "stream",
     "text": [
      "kilosort.run_kilosort: Kilosort version 4.0.25\n",
      "kilosort.run_kilosort: Python version 3.12.2\n",
      "kilosort.run_kilosort: ----------------------------------------\n",
      "kilosort.run_kilosort: System information:\n",
      "kilosort.run_kilosort: Windows-11-10.0.26100-SP0 AMD64\n",
      "kilosort.run_kilosort: Intel64 Family 6 Model 191 Stepping 2, GenuineIntel\n",
      "kilosort.run_kilosort: Using CUDA device: NVIDIA GeForce RTX 3060 12.00GB\n",
      "kilosort.run_kilosort: ----------------------------------------\n",
      "kilosort.run_kilosort: Sorting E:\\clickbait-ephys\\data\\preprocessed\\6002\\15\\temp.bin\n",
      "kilosort.run_kilosort: Interpreting binary file as default dtype='int16'. If data was saved in a different format, specify `data_dtype`.\n",
      "kilosort.run_kilosort: Skipping common average reference.\n",
      "kilosort.run_kilosort:  \n",
      "kilosort.run_kilosort: Computing preprocessing variables.\n",
      "kilosort.run_kilosort: ----------------------------------------\n",
      "kilosort.run_kilosort: N samples: 59788500\n",
      "kilosort.run_kilosort: N seconds: 1992.95\n",
      "kilosort.run_kilosort: N batches: 997\n"
     ]
    },
    {
     "name": "stdout",
     "output_type": "stream",
     "text": [
      "Created temporary binary file: E:\\clickbait-ephys\\data\\preprocessed\\6002\\15\\temp.bin\n"
     ]
    },
    {
     "name": "stderr",
     "output_type": "stream",
     "text": [
      "kilosort.run_kilosort: Preprocessing filters computed in  0.48s; total  0.48s\n",
      "kilosort.run_kilosort:  \n",
      "kilosort.run_kilosort: Resource usage after preprocessing\n",
      "kilosort.run_kilosort: ********************************************************\n",
      "kilosort.run_kilosort: CPU usage:     9.00 %\n",
      "kilosort.run_kilosort: Memory:       20.42 %     |     19.57   /    95.84 GB\n",
      "kilosort.run_kilosort: ------------------------------------------------------\n",
      "kilosort.run_kilosort: GPU usage:    `conda install pynvml` for GPU usage\n",
      "kilosort.run_kilosort: GPU memory:   47.43 %     |      5.69   /    12.00 GB\n",
      "kilosort.run_kilosort: Allocated:     0.07 %     |      0.01   /    12.00 GB\n",
      "kilosort.run_kilosort: Max alloc:    10.29 %     |      1.24   /    12.00 GB\n",
      "kilosort.run_kilosort: ********************************************************\n",
      "kilosort.run_kilosort:  \n",
      "kilosort.run_kilosort: Computing drift correction.\n",
      "kilosort.run_kilosort: ----------------------------------------\n",
      "kilosort.datashift: nblocks = 0, skipping drift correction\n",
      "kilosort.run_kilosort: drift computed in  0.01s; total  0.51s\n",
      "kilosort.run_kilosort:  \n",
      "kilosort.run_kilosort: Resource usage after drift correction\n",
      "kilosort.run_kilosort: ********************************************************\n",
      "kilosort.run_kilosort: CPU usage:    27.50 %\n",
      "kilosort.run_kilosort: Memory:       20.42 %     |     19.57   /    95.84 GB\n",
      "kilosort.run_kilosort: ------------------------------------------------------\n",
      "kilosort.run_kilosort: GPU usage:    `conda install pynvml` for GPU usage\n",
      "kilosort.run_kilosort: GPU memory:   47.43 %     |      5.69   /    12.00 GB\n",
      "kilosort.run_kilosort: Allocated:     0.07 %     |      0.01   /    12.00 GB\n",
      "kilosort.run_kilosort: Max alloc:    10.29 %     |      1.24   /    12.00 GB\n",
      "kilosort.run_kilosort: ********************************************************\n",
      "kilosort.io :  \n",
      "kilosort.io : ========================================\n",
      "kilosort.io : Saving drift-corrected copy of data to: E:\\clickbait-ephys\\data\\kilosorted_data_20um_tetrode\\6002\\15\\temp_wh.dat...\n",
      "kilosort.io : Writing batch 0/997...\n"
     ]
    }
   ],
   "source": [
    "count = 0\n",
    "\n",
    "for data_path in data_paths[count:]:\n",
    "    print(f'Processing mua.npy {count+1} of {len(data_paths)}')\n",
    "    results_path = os.path.join(save_path, get_savedirs(data_path))\n",
    "    kilosort(data_path, results_path, probe_path='probe_maps/8_tetrode_2_region_20um.json')\n",
    "    clear_output(wait=True)\n",
    "    count += 1\n",
    "\n",
    "print('All done!')\n",
    "print(f'{count} of {len(data_paths)} mua.npy files processed')"
   ]
  }
 ],
 "metadata": {
  "kernelspec": {
   "display_name": ".venv",
   "language": "python",
   "name": "python3"
  },
  "language_info": {
   "codemirror_mode": {
    "name": "ipython",
    "version": 3
   },
   "file_extension": ".py",
   "mimetype": "text/x-python",
   "name": "python",
   "nbconvert_exporter": "python",
   "pygments_lexer": "ipython3",
   "version": "3.12.2"
  }
 },
 "nbformat": 4,
 "nbformat_minor": 2
}
