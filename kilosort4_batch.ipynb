{
 "cells": [
  {
   "cell_type": "code",
   "execution_count": null,
   "metadata": {},
   "outputs": [],
   "source": [
    "import numpy as np\n",
    "import pandas as pd\n",
    "from kilosort import run_kilosort\n",
    "from kilosort.io import save_preprocessing, load_ops\n",
    "from pathlib import Path\n",
    "from tqdm import tqdm\n",
    "from kilosort4_batch import *"
   ]
  },
  {
   "cell_type": "markdown",
   "metadata": {},
   "source": [
    "### Load data paths"
   ]
  },
  {
   "cell_type": "code",
   "execution_count": null,
   "metadata": {},
   "outputs": [],
   "source": [
    "data_paths = get_mua_paths('E:/data/mua')"
   ]
  },
  {
   "cell_type": "code",
   "execution_count": null,
   "metadata": {},
   "outputs": [],
   "source": [
    "for ii, data_path in enumerate(data_paths):\n",
    "    kilosort(data_path=data_path, save_path='test/results', probe_path='8_tetrode.mat')\n",
    "    print(f'Processed {ii+1} of {len(data_paths)}')"
   ]
  }
 ],
 "metadata": {
  "kernelspec": {
   "display_name": "kilosort",
   "language": "python",
   "name": "python3"
  },
  "language_info": {
   "name": "python",
   "version": "3.9.21"
  }
 },
 "nbformat": 4,
 "nbformat_minor": 2
}
