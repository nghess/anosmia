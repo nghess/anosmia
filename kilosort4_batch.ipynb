{
 "cells": [
  {
   "cell_type": "code",
   "execution_count": 1,
   "metadata": {},
   "outputs": [
    {
     "name": "stdout",
     "output_type": "stream",
     "text": [
      "Torch devices available: 1\n",
      "Current device: 0\n"
     ]
    }
   ],
   "source": [
    "from utils import *\n",
    "from IPython.display import clear_output, display"
   ]
  },
  {
   "cell_type": "markdown",
   "metadata": {},
   "source": [
    "### Initialize paths"
   ]
  },
  {
   "cell_type": "code",
   "execution_count": 5,
   "metadata": {},
   "outputs": [],
   "source": [
    "skip_mice = ['6001', '6002', '6003']\n",
    "skip_sessions = ['0', '1', '2', '3', '4', '5', '6', '7', '8', '9', '10', '11', '12', '13', '14', '15']"
   ]
  },
  {
   "cell_type": "code",
   "execution_count": 6,
   "metadata": {},
   "outputs": [
    {
     "name": "stdout",
     "output_type": "stream",
     "text": [
      "Found 99 mua.npy files\n",
      "After filtering: 8 files (skipped 91)\n",
      "0 E:\\clickbait-ephys\\data\\preprocessed\\6000\\16\\mua.npy\n",
      "1 E:\\clickbait-ephys\\data\\preprocessed\\6000\\17\\mua.npy\n",
      "2 E:\\clickbait-ephys\\data\\preprocessed\\6000\\18\\mua.npy\n",
      "3 E:\\clickbait-ephys\\data\\preprocessed\\6000\\19\\mua.npy\n",
      "4 E:\\clickbait-ephys\\data\\preprocessed\\6000\\21\\mua.npy\n",
      "5 E:\\clickbait-ephys\\data\\preprocessed\\6000\\22\\mua.npy\n",
      "6 E:\\clickbait-ephys\\data\\preprocessed\\6000\\23\\mua.npy\n",
      "7 E:\\clickbait-ephys\\data\\preprocessed\\6000\\24\\mua.npy\n"
     ]
    }
   ],
   "source": [
    "# Load paths for subdirectories containing mua.npy files\n",
    "data_paths = get_file_paths(r\"E:\\clickbait-ephys\\data\\preprocessed\", extension='npy', keyword='mua', print_paths=True, skip_mice=skip_mice, skip_sessions=skip_sessions)\n",
    "# Root directory for saving Kilosort results\n",
    "save_path = r\"E:\\clickbait-ephys\\data\\kilosorted_data_20um_tetrode\""
   ]
  },
  {
   "cell_type": "markdown",
   "metadata": {},
   "source": [
    "### Kilosort data"
   ]
  },
  {
   "cell_type": "code",
   "execution_count": 7,
   "metadata": {},
   "outputs": [
    {
     "name": "stdout",
     "output_type": "stream",
     "text": [
      "Processing mua.npy 1 of 8\n",
      "E:\\clickbait-ephys\\data\\preprocessed\\6000\\16\n",
      "Data import shape:(32, 59358300)\n"
     ]
    },
    {
     "name": "stderr",
     "output_type": "stream",
     "text": [
      "kilosort.run_kilosort: Kilosort version 4.0.25\n",
      "kilosort.run_kilosort: Python version 3.12.2\n",
      "kilosort.run_kilosort: ----------------------------------------\n",
      "kilosort.run_kilosort: System information:\n",
      "kilosort.run_kilosort: Windows-11-10.0.26100-SP0 AMD64\n",
      "kilosort.run_kilosort: Intel64 Family 6 Model 191 Stepping 2, GenuineIntel\n",
      "kilosort.run_kilosort: Using CUDA device: NVIDIA GeForce RTX 3060 12.00GB\n",
      "kilosort.run_kilosort: ----------------------------------------\n",
      "kilosort.run_kilosort: Sorting E:\\clickbait-ephys\\data\\preprocessed\\6000\\16\\temp.bin\n",
      "kilosort.run_kilosort: Interpreting binary file as default dtype='int16'. If data was saved in a different format, specify `data_dtype`.\n",
      "kilosort.run_kilosort: Skipping common average reference.\n",
      "kilosort.run_kilosort:  \n",
      "kilosort.run_kilosort: Computing preprocessing variables.\n",
      "kilosort.run_kilosort: ----------------------------------------\n",
      "kilosort.run_kilosort: N samples: 59358300\n",
      "kilosort.run_kilosort: N seconds: 1978.61\n",
      "kilosort.run_kilosort: N batches: 990\n"
     ]
    },
    {
     "name": "stdout",
     "output_type": "stream",
     "text": [
      "Created temporary binary file: E:\\clickbait-ephys\\data\\preprocessed\\6000\\16\\temp.bin\n"
     ]
    },
    {
     "name": "stderr",
     "output_type": "stream",
     "text": [
      "kilosort.run_kilosort: Preprocessing filters computed in  0.51s; total  0.52s\n",
      "kilosort.run_kilosort:  \n",
      "kilosort.run_kilosort: Resource usage after preprocessing\n",
      "kilosort.run_kilosort: ********************************************************\n",
      "kilosort.run_kilosort: CPU usage:     8.40 %\n",
      "kilosort.run_kilosort: Memory:       23.52 %     |     22.54   /    95.84 GB\n",
      "kilosort.run_kilosort: ------------------------------------------------------\n",
      "kilosort.run_kilosort: GPU usage:    `conda install pynvml` for GPU usage\n",
      "kilosort.run_kilosort: GPU memory:   35.03 %     |      4.20   /    12.00 GB\n",
      "kilosort.run_kilosort: Allocated:     0.07 %     |      0.01   /    12.00 GB\n",
      "kilosort.run_kilosort: Max alloc:     6.73 %     |      0.81   /    12.00 GB\n",
      "kilosort.run_kilosort: ********************************************************\n",
      "kilosort.run_kilosort:  \n",
      "kilosort.run_kilosort: Computing drift correction.\n",
      "kilosort.run_kilosort: ----------------------------------------\n",
      "kilosort.datashift: nblocks = 0, skipping drift correction\n",
      "kilosort.run_kilosort: drift computed in  0.00s; total  0.56s\n",
      "kilosort.run_kilosort:  \n",
      "kilosort.run_kilosort: Resource usage after drift correction\n",
      "kilosort.run_kilosort: ********************************************************\n",
      "kilosort.run_kilosort: CPU usage:    11.30 %\n",
      "kilosort.run_kilosort: Memory:       23.53 %     |     22.55   /    95.84 GB\n",
      "kilosort.run_kilosort: ------------------------------------------------------\n",
      "kilosort.run_kilosort: GPU usage:    `conda install pynvml` for GPU usage\n",
      "kilosort.run_kilosort: GPU memory:   35.03 %     |      4.20   /    12.00 GB\n",
      "kilosort.run_kilosort: Allocated:     0.07 %     |      0.01   /    12.00 GB\n",
      "kilosort.run_kilosort: Max alloc:     6.73 %     |      0.81   /    12.00 GB\n",
      "kilosort.run_kilosort: ********************************************************\n",
      "kilosort.io :  \n",
      "kilosort.io : ========================================\n",
      "kilosort.io : Saving drift-corrected copy of data to: E:\\clickbait-ephys\\data\\kilosorted_data_20um_tetrode\\6000\\16\\temp_wh.dat...\n",
      "kilosort.io : Writing batch 0/990...\n",
      "kilosort.io : Writing batch 100/990...\n",
      "kilosort.io : Writing batch 200/990...\n",
      "kilosort.io : Writing batch 300/990...\n",
      "kilosort.io : Writing batch 400/990...\n",
      "kilosort.io : Writing batch 500/990...\n",
      "kilosort.io : Writing batch 600/990...\n",
      "kilosort.io : Writing batch 700/990...\n",
      "kilosort.io : Writing batch 800/990...\n",
      "kilosort.io : Writing batch 900/990...\n",
      "kilosort.io : ========================================\n",
      "kilosort.io : Copying finished.\n",
      "kilosort.io :  \n",
      "kilosort.run_kilosort:  \n",
      "kilosort.run_kilosort: Extracting spikes using templates\n",
      "kilosort.run_kilosort: ----------------------------------------\n",
      "kilosort.spikedetect: Re-computing universal templates from data.\n",
      "kilosort.spikedetect: Number of universal templates: 56\n",
      "kilosort.spikedetect: Detecting spikes...\n",
      "100%|██████████| 990/990 [00:32<00:00, 30.07it/s]\n",
      "kilosort.run_kilosort: 450247 spikes extracted in  33.80s; total  97.65s\n",
      "kilosort.run_kilosort:  \n",
      "kilosort.run_kilosort: First clustering\n",
      "kilosort.run_kilosort: ----------------------------------------\n",
      "100%|██████████| 1/1 [00:09<00:00,  9.30s/it]\n",
      "kilosort.run_kilosort: 34 clusters found, in  9.35s; total  107.00s\n",
      "kilosort.run_kilosort:  \n",
      "kilosort.run_kilosort: Extracting spikes using cluster waveforms\n",
      "kilosort.run_kilosort: ----------------------------------------\n",
      "100%|██████████| 990/990 [00:27<00:00, 35.97it/s]\n",
      "kilosort.run_kilosort: 832900 spikes extracted in  27.65s; total  134.65s\n",
      "kilosort.run_kilosort:  \n",
      "kilosort.run_kilosort: Resource usage after spike detection\n",
      "kilosort.run_kilosort: ********************************************************\n",
      "kilosort.run_kilosort: CPU usage:    22.50 %\n",
      "kilosort.run_kilosort: Memory:       27.01 %     |     25.88   /    95.84 GB\n",
      "kilosort.run_kilosort: ------------------------------------------------------\n",
      "kilosort.run_kilosort: GPU usage:    `conda install pynvml` for GPU usage\n",
      "kilosort.run_kilosort: GPU memory:   35.03 %     |      4.20   /    12.00 GB\n",
      "kilosort.run_kilosort: Allocated:     0.07 %     |      0.01   /    12.00 GB\n",
      "kilosort.run_kilosort: Max alloc:     6.73 %     |      0.81   /    12.00 GB\n",
      "kilosort.run_kilosort: ********************************************************\n",
      "kilosort.run_kilosort:  \n",
      "kilosort.run_kilosort: Final clustering\n",
      "kilosort.run_kilosort: ----------------------------------------\n",
      "100%|██████████| 1/1 [00:19<00:00, 19.14s/it]\n",
      "kilosort.run_kilosort: 30 clusters found, in  19.15s; total  153.82s\n",
      "kilosort.run_kilosort:  \n",
      "kilosort.run_kilosort: Merging clusters\n",
      "kilosort.run_kilosort: ----------------------------------------\n",
      "kilosort.run_kilosort: 30 units found, in  0.27s; total  154.08s\n",
      "kilosort.run_kilosort:  \n",
      "kilosort.run_kilosort: Resource usage after clustering\n",
      "kilosort.run_kilosort: ********************************************************\n",
      "kilosort.run_kilosort: CPU usage:    30.50 %\n",
      "kilosort.run_kilosort: Memory:       23.24 %     |     22.27   /    95.84 GB\n",
      "kilosort.run_kilosort: ------------------------------------------------------\n",
      "kilosort.run_kilosort: GPU usage:    `conda install pynvml` for GPU usage\n",
      "kilosort.run_kilosort: GPU memory:   35.03 %     |      4.20   /    12.00 GB\n",
      "kilosort.run_kilosort: Allocated:     0.07 %     |      0.01   /    12.00 GB\n",
      "kilosort.run_kilosort: Max alloc:     6.73 %     |      0.81   /    12.00 GB\n",
      "kilosort.run_kilosort: ********************************************************\n",
      "kilosort.run_kilosort:  \n",
      "kilosort.run_kilosort: Saving to phy and computing refractory periods\n",
      "kilosort.run_kilosort: ----------------------------------------\n",
      "kilosort.run_kilosort: 2 units found with good refractory periods\n",
      "kilosort.run_kilosort: Total runtime: 158.21s = 00:02:38 h:m:s\n",
      "kilosort.run_kilosort: Sorting output saved in: E:\\clickbait-ephys\\data\\kilosorted_data_20um_tetrode\\6000\\16.\n",
      "kilosort.run_kilosort:  \n",
      "kilosort.run_kilosort: Resource usage after saving\n",
      "kilosort.run_kilosort: ********************************************************\n",
      "kilosort.run_kilosort: CPU usage:    25.50 %\n",
      "kilosort.run_kilosort: Memory:       24.02 %     |     23.02   /    95.84 GB\n",
      "kilosort.run_kilosort: ------------------------------------------------------\n",
      "kilosort.run_kilosort: GPU usage:    `conda install pynvml` for GPU usage\n",
      "kilosort.run_kilosort: GPU memory:   35.03 %     |      4.20   /    12.00 GB\n",
      "kilosort.run_kilosort: Allocated:     0.07 %     |      0.01   /    12.00 GB\n",
      "kilosort.run_kilosort: Max alloc:     6.73 %     |      0.81   /    12.00 GB\n",
      "kilosort.run_kilosort: ********************************************************\n"
     ]
    },
    {
     "ename": "FileNotFoundError",
     "evalue": "[Errno 2] No such file or directory: 'E:\\\\clickbait-ephys\\\\data\\\\kilosorted_data_20um_tetrode\\\\6000\\\\16\\\\kilosort4.log'",
     "output_type": "error",
     "traceback": [
      "\u001b[1;31m---------------------------------------------------------------------------\u001b[0m",
      "\u001b[1;31mFileNotFoundError\u001b[0m                         Traceback (most recent call last)",
      "File \u001b[1;32me:\\clickbait-ephys\\anosmia\\utils.py:87\u001b[0m, in \u001b[0;36mkilosort\u001b[1;34m(data_path, results_path, probe_path, num_channels, save_preprocessed, clean_outliers)\u001b[0m\n\u001b[0;32m     85\u001b[0m unit_summary(data_path, results_path, data_min, data_max, data_std, clip_mult, error=False)\n\u001b[1;32m---> 87\u001b[0m # Return results\n\u001b[0;32m     88\u001b[0m return ops, st, clu, tF, Wall, similar_templates, is_ref, est_contam_rate, kept_spikes\n",
      "File \u001b[1;32me:\\clickbait-ephys\\anosmia\\utils.py:204\u001b[0m, in \u001b[0;36munit_summary\u001b[1;34m(data_path, results_path, data_min, data_max, data_std, clip_mult, error)\u001b[0m\n\u001b[0;32m      0\u001b[0m <Error retrieving source code with stack_data see ipython/ipython#13598>\n",
      "\u001b[1;31mFileNotFoundError\u001b[0m: [Errno 2] No such file or directory: 'E:\\\\clickbait-ephys\\\\data\\\\kilosorted_data_20um_tetrode\\\\6000\\\\16\\\\kilosort4.log'",
      "\nDuring handling of the above exception, another exception occurred:\n",
      "\u001b[1;31mFileNotFoundError\u001b[0m                         Traceback (most recent call last)",
      "Cell \u001b[1;32mIn[7], line 6\u001b[0m\n\u001b[0;32m      4\u001b[0m \u001b[38;5;28mprint\u001b[39m(\u001b[38;5;124mf\u001b[39m\u001b[38;5;124m'\u001b[39m\u001b[38;5;124mProcessing mua.npy \u001b[39m\u001b[38;5;132;01m{\u001b[39;00mcount\u001b[38;5;241m+\u001b[39m\u001b[38;5;241m1\u001b[39m\u001b[38;5;132;01m}\u001b[39;00m\u001b[38;5;124m of \u001b[39m\u001b[38;5;132;01m{\u001b[39;00m\u001b[38;5;28mlen\u001b[39m(data_paths)\u001b[38;5;132;01m}\u001b[39;00m\u001b[38;5;124m'\u001b[39m)\n\u001b[0;32m      5\u001b[0m results_path \u001b[38;5;241m=\u001b[39m os\u001b[38;5;241m.\u001b[39mpath\u001b[38;5;241m.\u001b[39mjoin(save_path, get_savedirs(data_path))\n\u001b[1;32m----> 6\u001b[0m \u001b[43mkilosort\u001b[49m\u001b[43m(\u001b[49m\u001b[43mdata_path\u001b[49m\u001b[43m,\u001b[49m\u001b[43m \u001b[49m\u001b[43mresults_path\u001b[49m\u001b[43m,\u001b[49m\u001b[43m \u001b[49m\u001b[43mprobe_path\u001b[49m\u001b[38;5;241;43m=\u001b[39;49m\u001b[38;5;124;43m'\u001b[39;49m\u001b[38;5;124;43mprobe_maps/8_tetrode_2_region_20um.json\u001b[39;49m\u001b[38;5;124;43m'\u001b[39;49m\u001b[43m)\u001b[49m\n\u001b[0;32m      7\u001b[0m clear_output(wait\u001b[38;5;241m=\u001b[39m\u001b[38;5;28;01mTrue\u001b[39;00m)\n\u001b[0;32m      8\u001b[0m count \u001b[38;5;241m+\u001b[39m\u001b[38;5;241m=\u001b[39m \u001b[38;5;241m1\u001b[39m\n",
      "File \u001b[1;32me:\\clickbait-ephys\\anosmia\\utils.py:94\u001b[0m, in \u001b[0;36mkilosort\u001b[1;34m(data_path, results_path, probe_path, num_channels, save_preprocessed, clean_outliers)\u001b[0m\n\u001b[0;32m      0\u001b[0m <Error retrieving source code with stack_data see ipython/ipython#13598>\n",
      "File \u001b[1;32me:\\clickbait-ephys\\anosmia\\utils.py:204\u001b[0m, in \u001b[0;36munit_summary\u001b[1;34m(data_path, results_path, data_min, data_max, data_std, clip_mult, error)\u001b[0m\n\u001b[0;32m      0\u001b[0m <Error retrieving source code with stack_data see ipython/ipython#13598>\n",
      "\u001b[1;31mFileNotFoundError\u001b[0m: [Errno 2] No such file or directory: 'E:\\\\clickbait-ephys\\\\data\\\\kilosorted_data_20um_tetrode\\\\6000\\\\16\\\\kilosort4.log'"
     ]
    }
   ],
   "source": [
    "count = 0\n",
    "\n",
    "for data_path in data_paths[count:]:\n",
    "    print(f'Processing mua.npy {count+1} of {len(data_paths)}')\n",
    "    results_path = os.path.join(save_path, get_savedirs(data_path))\n",
    "    kilosort(data_path, results_path, probe_path='probe_maps/8_tetrode_2_region_20um.json')\n",
    "    clear_output(wait=True)\n",
    "    count += 1\n",
    "\n",
    "print('All done!')\n",
    "print(f'{count} of {len(data_paths)} mua.npy files processed')"
   ]
  }
 ],
 "metadata": {
  "kernelspec": {
   "display_name": ".venv",
   "language": "python",
   "name": "python3"
  },
  "language_info": {
   "codemirror_mode": {
    "name": "ipython",
    "version": 3
   },
   "file_extension": ".py",
   "mimetype": "text/x-python",
   "name": "python",
   "nbconvert_exporter": "python",
   "pygments_lexer": "ipython3",
   "version": "3.12.2"
  }
 },
 "nbformat": 4,
 "nbformat_minor": 2
}
