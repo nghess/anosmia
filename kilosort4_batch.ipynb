{
 "cells": [
  {
   "cell_type": "code",
   "execution_count": 1,
   "metadata": {},
   "outputs": [],
   "source": [
    "from ks4_batch import *\n",
    "from IPython.display import clear_output, display"
   ]
  },
  {
   "cell_type": "markdown",
   "metadata": {},
   "source": [
    "### Initialize paths"
   ]
  },
  {
   "cell_type": "code",
   "execution_count": null,
   "metadata": {},
   "outputs": [],
   "source": [
    "# Load paths for subdirectories containing mua.npy files\n",
    "data_paths = get_mua_paths(r'C:/Users/smearlab/clickbait-ephys/preprocessed_data', print_paths=True)\n",
    "# Root directory for saving Kilosort results\n",
    "save_path = r'C:/Users/smearlab/clickbait-ephys/kilosorted_data/'"
   ]
  },
  {
   "cell_type": "markdown",
   "metadata": {},
   "source": [
    "### Kilosort data"
   ]
  },
  {
   "cell_type": "code",
   "execution_count": null,
   "metadata": {},
   "outputs": [],
   "source": [
    "# Kilosort each data path\n",
    "for ii, data_path in enumerate(data_paths):\n",
    "    print(f'Processing mua.npy {ii+1} of {len(data_paths)}')\n",
    "    results_path = os.path.join(save_path, get_savedirs(data_path))\n",
    "    kilosort(data_path=data_path, results_path=results_path, probe_path='probe_maps/8_tetrode_2_region.json')\n",
    "    clear_output(wait=True)\n",
    "\n",
    "print('All done!')\n",
    "print(f'{ii+1} of {len(data_paths)} mua.npy files processed')\n"
   ]
  }
 ],
 "metadata": {
  "kernelspec": {
   "display_name": "kilosort4",
   "language": "python",
   "name": "python3"
  },
  "language_info": {
   "codemirror_mode": {
    "name": "ipython",
    "version": 3
   },
   "file_extension": ".py",
   "mimetype": "text/x-python",
   "name": "python",
   "nbconvert_exporter": "python",
   "pygments_lexer": "ipython3",
   "version": "3.10.16"
  }
 },
 "nbformat": 4,
 "nbformat_minor": 2
}
