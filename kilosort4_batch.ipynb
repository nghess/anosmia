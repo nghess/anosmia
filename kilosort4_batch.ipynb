{
 "cells": [
  {
   "cell_type": "code",
   "execution_count": 1,
   "metadata": {},
   "outputs": [],
   "source": [
    "from ks4_batch import *\n",
    "from IPython.display import clear_output, display"
   ]
  },
  {
   "cell_type": "markdown",
   "metadata": {},
   "source": [
    "### Initialize paths"
   ]
  },
  {
   "cell_type": "code",
   "execution_count": 2,
   "metadata": {},
   "outputs": [
    {
     "name": "stdout",
     "output_type": "stream",
     "text": [
      "Found 32 mua.npy files\n",
      "0 C:\\Users\\smearlab\\clickbait-ephys\\preprocessed_data\\6000\\0\\mua.npy\n",
      "1 C:\\Users\\smearlab\\clickbait-ephys\\preprocessed_data\\6000\\1\\mua.npy\n",
      "2 C:\\Users\\smearlab\\clickbait-ephys\\preprocessed_data\\6000\\2\\mua.npy\n",
      "3 C:\\Users\\smearlab\\clickbait-ephys\\preprocessed_data\\6000\\3\\mua.npy\n",
      "4 C:\\Users\\smearlab\\clickbait-ephys\\preprocessed_data\\6000\\4\\mua.npy\n",
      "5 C:\\Users\\smearlab\\clickbait-ephys\\preprocessed_data\\6000\\5\\mua.npy\n",
      "6 C:\\Users\\smearlab\\clickbait-ephys\\preprocessed_data\\6000\\6\\mua.npy\n",
      "7 C:\\Users\\smearlab\\clickbait-ephys\\preprocessed_data\\6000\\7\\mua.npy\n",
      "8 C:\\Users\\smearlab\\clickbait-ephys\\preprocessed_data\\6001\\0\\mua.npy\n",
      "9 C:\\Users\\smearlab\\clickbait-ephys\\preprocessed_data\\6001\\1\\mua.npy\n",
      "10 C:\\Users\\smearlab\\clickbait-ephys\\preprocessed_data\\6001\\2\\mua.npy\n",
      "11 C:\\Users\\smearlab\\clickbait-ephys\\preprocessed_data\\6001\\3\\mua.npy\n",
      "12 C:\\Users\\smearlab\\clickbait-ephys\\preprocessed_data\\6001\\4\\mua.npy\n",
      "13 C:\\Users\\smearlab\\clickbait-ephys\\preprocessed_data\\6001\\5\\mua.npy\n",
      "14 C:\\Users\\smearlab\\clickbait-ephys\\preprocessed_data\\6001\\6\\mua.npy\n",
      "15 C:\\Users\\smearlab\\clickbait-ephys\\preprocessed_data\\6001\\7\\mua.npy\n",
      "16 C:\\Users\\smearlab\\clickbait-ephys\\preprocessed_data\\6002\\0\\mua.npy\n",
      "17 C:\\Users\\smearlab\\clickbait-ephys\\preprocessed_data\\6002\\1\\mua.npy\n",
      "18 C:\\Users\\smearlab\\clickbait-ephys\\preprocessed_data\\6002\\2\\mua.npy\n",
      "19 C:\\Users\\smearlab\\clickbait-ephys\\preprocessed_data\\6002\\3\\mua.npy\n",
      "20 C:\\Users\\smearlab\\clickbait-ephys\\preprocessed_data\\6002\\4\\mua.npy\n",
      "21 C:\\Users\\smearlab\\clickbait-ephys\\preprocessed_data\\6002\\5\\mua.npy\n",
      "22 C:\\Users\\smearlab\\clickbait-ephys\\preprocessed_data\\6002\\6\\mua.npy\n",
      "23 C:\\Users\\smearlab\\clickbait-ephys\\preprocessed_data\\6002\\7\\mua.npy\n",
      "24 C:\\Users\\smearlab\\clickbait-ephys\\preprocessed_data\\6003\\0\\mua.npy\n",
      "25 C:\\Users\\smearlab\\clickbait-ephys\\preprocessed_data\\6003\\1\\mua.npy\n",
      "26 C:\\Users\\smearlab\\clickbait-ephys\\preprocessed_data\\6003\\2\\mua.npy\n",
      "27 C:\\Users\\smearlab\\clickbait-ephys\\preprocessed_data\\6003\\3\\mua.npy\n",
      "28 C:\\Users\\smearlab\\clickbait-ephys\\preprocessed_data\\6003\\4\\mua.npy\n",
      "29 C:\\Users\\smearlab\\clickbait-ephys\\preprocessed_data\\6003\\5\\mua.npy\n",
      "30 C:\\Users\\smearlab\\clickbait-ephys\\preprocessed_data\\6003\\6\\mua.npy\n",
      "31 C:\\Users\\smearlab\\clickbait-ephys\\preprocessed_data\\6003\\7\\mua.npy\n"
     ]
    }
   ],
   "source": [
    "# Load paths for subdirectories containing mua.npy files\n",
    "data_paths = get_mua_paths(r'C:/Users/smearlab/clickbait-ephys/preprocessed_data', print_paths=True)\n",
    "# Root directory for saving Kilosort results\n",
    "save_path = r'C:/Users/smearlab/clickbait-ephys/kilosorted_data/'"
   ]
  },
  {
   "cell_type": "code",
   "execution_count": 3,
   "metadata": {},
   "outputs": [],
   "source": [
    "# Something is wrong with 6001/7\n",
    "data_paths = data_paths[:15] + data_paths[16:]"
   ]
  },
  {
   "cell_type": "markdown",
   "metadata": {},
   "source": [
    "### Kilosort data"
   ]
  },
  {
   "cell_type": "code",
   "execution_count": null,
   "metadata": {},
   "outputs": [
    {
     "name": "stdout",
     "output_type": "stream",
     "text": [
      "Processing mua.npy 6 of 31\n",
      "Data import shape:(32, 61614000)\n",
      "Created temporary binary file: C:\\Users\\smearlab\\clickbait-ephys\\preprocessed_data\\6000\\5\\temp.bin\n"
     ]
    },
    {
     "name": "stderr",
     "output_type": "stream",
     "text": [
      "kilosort.run_kilosort: Kilosort version 4.0.20\n",
      "kilosort.run_kilosort: Python version 3.10.16\n",
      "kilosort.run_kilosort: ----------------------------------------\n",
      "kilosort.run_kilosort: System information:\n",
      "kilosort.run_kilosort: Windows-10-10.0.26100-SP0 AMD64\n",
      "kilosort.run_kilosort: Intel64 Family 6 Model 191 Stepping 2, GenuineIntel\n",
      "kilosort.run_kilosort: Using GPU for PyTorch computations. Specify `device` to change this.\n",
      "kilosort.run_kilosort: Using CUDA device: NVIDIA GeForce RTX 3060 12.00GB\n",
      "kilosort.run_kilosort: ----------------------------------------\n",
      "kilosort.run_kilosort: Sorting C:\\Users\\smearlab\\clickbait-ephys\\preprocessed_data\\6000\\5\\temp.bin\n",
      "kilosort.run_kilosort: Interpreting binary file as default dtype='int16'. If data was saved in a different format, specify `data_dtype`.\n",
      "kilosort.run_kilosort: Skipping common average reference.\n",
      "kilosort.run_kilosort:  \n",
      "kilosort.run_kilosort: Computing preprocessing variables.\n",
      "kilosort.run_kilosort: ----------------------------------------\n",
      "kilosort.run_kilosort: N samples: 61614000\n",
      "kilosort.run_kilosort: N seconds: 2053.8\n",
      "kilosort.run_kilosort: N batches: 1027\n",
      "kilosort.run_kilosort: Preprocessing filters computed in  0.48s; total  0.49s\n",
      "kilosort.run_kilosort:  \n",
      "kilosort.run_kilosort: Resource usage after preprocessing\n",
      "kilosort.run_kilosort: ********************************************************\n",
      "kilosort.run_kilosort: CPU usage:     9.70 %\n",
      "kilosort.run_kilosort: Memory:       25.05 %     |     24.01   /    95.84 GB\n",
      "kilosort.run_kilosort: ------------------------------------------------------\n",
      "kilosort.run_kilosort: GPU usage:    `conda install pynvml` for GPU usage\n",
      "kilosort.run_kilosort: GPU memory:   35.03 %     |      4.20   /    12.00 GB\n",
      "kilosort.run_kilosort: Allocated:     0.07 %     |      0.01   /    12.00 GB\n",
      "kilosort.run_kilosort: Max alloc:     5.14 %     |      0.62   /    12.00 GB\n",
      "kilosort.run_kilosort: ********************************************************\n",
      "kilosort.run_kilosort:  \n",
      "kilosort.run_kilosort: Computing drift correction.\n",
      "kilosort.run_kilosort: ----------------------------------------\n",
      "kilosort.datashift: nblocks = 0, skipping drift correction\n",
      "kilosort.run_kilosort: drift computed in  0.00s; total  0.50s\n",
      "kilosort.run_kilosort:  \n",
      "kilosort.run_kilosort: Resource usage after drift correction\n",
      "kilosort.run_kilosort: ********************************************************\n",
      "kilosort.run_kilosort: CPU usage:     0.00 %\n",
      "kilosort.run_kilosort: Memory:       25.05 %     |     24.01   /    95.84 GB\n",
      "kilosort.run_kilosort: ------------------------------------------------------\n",
      "kilosort.run_kilosort: GPU usage:    `conda install pynvml` for GPU usage\n",
      "kilosort.run_kilosort: GPU memory:   35.03 %     |      4.20   /    12.00 GB\n",
      "kilosort.run_kilosort: Allocated:     0.07 %     |      0.01   /    12.00 GB\n",
      "kilosort.run_kilosort: Max alloc:     5.14 %     |      0.62   /    12.00 GB\n",
      "kilosort.run_kilosort: ********************************************************\n",
      "kilosort.io :  \n",
      "kilosort.io : ========================================\n",
      "kilosort.io : Saving drift-corrected copy of data to: C:\\Users\\smearlab\\clickbait-ephys\\kilosorted_data\\6000\\5\\temp_wh.dat...\n",
      "kilosort.io : Writing batch 0/1027...\n",
      "kilosort.io : Writing batch 100/1027...\n",
      "kilosort.io : Writing batch 200/1027...\n",
      "kilosort.io : Writing batch 300/1027...\n",
      "kilosort.io : Writing batch 400/1027...\n",
      "kilosort.io : Writing batch 500/1027...\n",
      "kilosort.io : Writing batch 600/1027...\n",
      "kilosort.io : Writing batch 700/1027...\n",
      "kilosort.io : Writing batch 800/1027...\n",
      "kilosort.io : Writing batch 900/1027...\n",
      "kilosort.io : Writing batch 1000/1027...\n",
      "kilosort.io : ========================================\n",
      "kilosort.io : Copying finished.\n",
      "kilosort.io :  \n",
      "kilosort.run_kilosort:  \n",
      "kilosort.run_kilosort: Extracting spikes using templates\n",
      "kilosort.run_kilosort: ----------------------------------------\n",
      "kilosort.spikedetect: Re-computing universal templates from data.\n",
      "kilosort.spikedetect: Number of universal templates: 56\n",
      "kilosort.spikedetect: Detecting spikes...\n",
      "100%|██████████| 1027/1027 [00:32<00:00, 31.32it/s]\n",
      "kilosort.run_kilosort: 477329 spikes extracted in  33.62s; total  86.11s\n",
      "kilosort.run_kilosort:  \n",
      "kilosort.run_kilosort: First clustering\n",
      "kilosort.run_kilosort: ----------------------------------------\n",
      "100%|██████████| 29/29 [00:10<00:00,  2.66it/s]\n",
      "kilosort.run_kilosort: 27 clusters found, in  10.94s; total  97.05s\n",
      "kilosort.run_kilosort:  \n",
      "kilosort.run_kilosort: Extracting spikes using cluster waveforms\n",
      "kilosort.run_kilosort: ----------------------------------------\n",
      "100%|██████████| 1027/1027 [00:29<00:00, 34.70it/s]\n",
      "kilosort.run_kilosort: 834476 spikes extracted in  29.70s; total  126.75s\n",
      "kilosort.run_kilosort:  \n",
      "kilosort.run_kilosort: Resource usage after spike detection\n",
      "kilosort.run_kilosort: ********************************************************\n",
      "kilosort.run_kilosort: CPU usage:    29.30 %\n",
      "kilosort.run_kilosort: Memory:       29.28 %     |     28.07   /    95.84 GB\n",
      "kilosort.run_kilosort: ------------------------------------------------------\n",
      "kilosort.run_kilosort: GPU usage:    `conda install pynvml` for GPU usage\n",
      "kilosort.run_kilosort: GPU memory:   35.03 %     |      4.20   /    12.00 GB\n",
      "kilosort.run_kilosort: Allocated:     0.07 %     |      0.01   /    12.00 GB\n",
      "kilosort.run_kilosort: Max alloc:     5.14 %     |      0.62   /    12.00 GB\n",
      "kilosort.run_kilosort: ********************************************************\n",
      "kilosort.run_kilosort:  \n",
      "kilosort.run_kilosort: Final clustering\n",
      "kilosort.run_kilosort: ----------------------------------------\n",
      "  0%|          | 0/29 [00:00<?, ?it/s]"
     ]
    }
   ],
   "source": [
    "count = 0\n",
    "\n",
    "for data_path in data_paths:\n",
    "    print(f'Processing mua.npy {count+1} of {len(data_paths)}')\n",
    "    results_path = os.path.join(save_path, get_savedirs(data_path))\n",
    "    kilosort(data_path, results_path, probe_path='probe_maps/8_tetrode_2_region_1um.json')\n",
    "    clear_output(wait=True)\n",
    "    count += 1\n",
    "\n",
    "print('All done!')\n",
    "print(f'{count} of {len(data_paths)} mua.npy files processed')"
   ]
  }
 ],
 "metadata": {
  "kernelspec": {
   "display_name": "kilosort4",
   "language": "python",
   "name": "python3"
  },
  "language_info": {
   "codemirror_mode": {
    "name": "ipython",
    "version": 3
   },
   "file_extension": ".py",
   "mimetype": "text/x-python",
   "name": "python",
   "nbconvert_exporter": "python",
   "pygments_lexer": "ipython3",
   "version": "3.10.16"
  }
 },
 "nbformat": 4,
 "nbformat_minor": 2
}
