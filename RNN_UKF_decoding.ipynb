version https://git-lfs.github.com/spec/v1
oid sha256:50210abab2d1f5a64b1f799fe0598650ac17b03b723c00c60296b912c81299d7
size 19487455
