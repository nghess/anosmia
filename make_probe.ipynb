{
 "cells": [
  {
   "attachments": {},
   "cell_type": "markdown",
   "metadata": {},
   "source": [
    "# Creating a Kilosort4 probe dictionary\n",
    "\n",
    "Kilosort4 uses a dictionary to track probe interformation.\n",
    "The dictionary needs the following keys, all of which correspond to NumPy ndarrays.\n",
    "\n",
    "```\n",
    "'chanMap': the channel indices that are included in the data.\n",
    "'xc':      the x-coordinates (in micrometers) of the probe contact centers.\n",
    "'yc':      the y-coordinates (in micrometers) of the probe contact centers.\n",
    "'kcoords': shank or channel group of each contact.\n",
    "'n_chan':  the number of channels.\n",
    "```\n",
    "\n",
    "Note that \"contact centers\" here refers only to the centers that were actually used to generate the recording that will be sorted. For example, a neuropixels probe may have 1000 or more contacts, but no more than 384 are recorded from at one time. Values should only be specified for those 384 channels, or fewer if not all were used."
   ]
  },
  {
   "attachments": {},
   "cell_type": "markdown",
   "metadata": {},
   "source": [
    "To demonstrate, we'll create a probe dictionary corresponding to a real example, a [128-channel probe from Diagnostic Biochips](https://20374082.fs1.hubspotusercontent-na1.net/hubfs/20374082/Product%20PDFs/P128-1.pdf).\n",
    "\n",
    "We'll assume all channels are used, so 'chanMap' will just be the range of integers from 0 to 127. 'kcoords' can be set to all zeroes as mentioned above."
   ]
  },
  {
   "cell_type": "code",
   "execution_count": 2,
   "metadata": {},
   "outputs": [],
   "source": [
    "import numpy as np\n",
    "\n",
    "n_chan = 32\n",
    "chanMap = np.arange(n_chan)\n",
    "kcoords = np.array([(i//4) for i in range(n_chan)])\n"
   ]
  },
  {
   "cell_type": "code",
   "execution_count": 3,
   "metadata": {},
   "outputs": [
    {
     "data": {
      "text/plain": [
       "array([0, 0, 0, 0, 1, 1, 1, 1, 2, 2, 2, 2, 3, 3, 3, 3, 4, 4, 4, 4, 5, 5,\n",
       "       5, 5, 6, 6, 6, 6, 7, 7, 7, 7])"
      ]
     },
     "execution_count": 3,
     "metadata": {},
     "output_type": "execute_result"
    }
   ],
   "source": [
    "kcoords"
   ]
  },
  {
   "attachments": {},
   "cell_type": "markdown",
   "metadata": {},
   "source": [
    "Since the contacts are 11 micrometers wide (x) and 15 micrometers high (y),\n",
    "our first contact center has coordinates (5.5, 7.5). There is a single column\n",
    "of contacts, so all x-coordinates are the same. Finally, the diagram indicates\n",
    "that contacts are spaced 20 micrometers apart."
   ]
  },
  {
   "cell_type": "code",
   "execution_count": 4,
   "metadata": {},
   "outputs": [],
   "source": [
    "xc = np.array([0,20,40,60] * 8)\n",
    "yc = np.array([(i//4)*20 for i in range(32)])"
   ]
  },
  {
   "cell_type": "code",
   "execution_count": null,
   "metadata": {},
   "outputs": [],
   "source": [
    "# Pad between the two regions\n",
    "yc[16:] = yc[16:] + 1000"
   ]
  },
  {
   "attachments": {},
   "cell_type": "markdown",
   "metadata": {},
   "source": [
    "So, our probe dictionary looks like:"
   ]
  },
  {
   "cell_type": "code",
   "execution_count": 5,
   "metadata": {},
   "outputs": [
    {
     "name": "stdout",
     "output_type": "stream",
     "text": [
      "{'chanMap': array([ 0,  1,  2,  3,  4,  5,  6,  7,  8,  9, 10, 11, 12, 13, 14, 15, 16,\n",
      "       17, 18, 19, 20, 21, 22, 23, 24, 25, 26, 27, 28, 29, 30, 31]), 'xc': array([ 0, 20, 40, 60,  0, 20, 40, 60,  0, 20, 40, 60,  0, 20, 40, 60,  0,\n",
      "       20, 40, 60,  0, 20, 40, 60,  0, 20, 40, 60,  0, 20, 40, 60]), 'yc': array([  0,   0,   0,   0,  20,  20,  20,  20,  40,  40,  40,  40,  60,\n",
      "        60,  60,  60,  80,  80,  80,  80, 100, 100, 100, 100, 120, 120,\n",
      "       120, 120, 140, 140, 140, 140]), 'kcoords': array([0, 0, 0, 0, 1, 1, 1, 1, 2, 2, 2, 2, 3, 3, 3, 3, 4, 4, 4, 4, 5, 5,\n",
      "       5, 5, 6, 6, 6, 6, 7, 7, 7, 7]), 'n_chan': 32}\n"
     ]
    }
   ],
   "source": [
    "probe = {\n",
    "    'chanMap': chanMap,\n",
    "    'xc': xc,\n",
    "    'yc': yc,\n",
    "    'kcoords': kcoords,\n",
    "    'n_chan': n_chan\n",
    "}\n",
    "\n",
    "print(probe)"
   ]
  },
  {
   "attachments": {},
   "cell_type": "markdown",
   "metadata": {},
   "source": [
    "This probe dictionary can now be used as an argument for `run_kilosort`, as demonstrated above. We can also save it to a `.json` file for later use:"
   ]
  },
  {
   "cell_type": "code",
   "execution_count": 5,
   "metadata": {},
   "outputs": [],
   "source": [
    "from kilosort.io import save_probe\n",
    "\n",
    "save_probe(probe, '8_tetrode.json')"
   ]
  },
  {
   "attachments": {},
   "cell_type": "markdown",
   "metadata": {},
   "source": [
    "Now Kilsort4 can load the probe file and extract the contact coordinates and other relevant information. There are two ways to provide this information when running Kilosort4:\n",
    "\n",
    "1. Specify the path to the probe file in the GUI.\n",
    "\n",
    "Or\n",
    "\n",
    "2. Load the probe using `kilosort.io.load_probe` and provide the resulting dictionary to `kilosort.run_kilosort` using the `probe` keyword argument (demonstrated below)."
   ]
  },
  {
   "cell_type": "code",
   "execution_count": null,
   "metadata": {},
   "outputs": [],
   "source": [
    "from kilosort import run_kilosort\n",
    "from kilosort.io import load_probe\n",
    "\n",
    "# Abreviated arguments, for demonstration only.\n",
    "p = load_probe('.../test_prb.prb')\n",
    "results = run_kilosort(..., probe=p)"
   ]
  }
 ],
 "metadata": {
  "kernelspec": {
   "display_name": "kilosort4",
   "language": "python",
   "name": "python3"
  },
  "language_info": {
   "codemirror_mode": {
    "name": "ipython",
    "version": 3
   },
   "file_extension": ".py",
   "mimetype": "text/x-python",
   "name": "python",
   "nbconvert_exporter": "python",
   "pygments_lexer": "ipython3",
   "version": "3.10.16"
  },
  "orig_nbformat": 4
 },
 "nbformat": 4,
 "nbformat_minor": 2
}
